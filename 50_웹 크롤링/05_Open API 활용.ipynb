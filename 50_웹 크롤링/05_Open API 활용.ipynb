{
 "cells": [
  {
   "cell_type": "markdown",
   "metadata": {},
   "source": [
    "# 2. Open API 활용"
   ]
  },
  {
   "cell_type": "markdown",
   "metadata": {},
   "source": [
    "### 공공데이터포털 Open API 사용하기\n",
    "1. 공공데이터포털 사이트 회원가입 및 로그인 (https://www.data.go.kr)\n",
    "2. API 사용 요청, 키 발급\n",
    "3. API 매뉴얼 확인\n",
    "4. API 연동 개발 및 테스트"
   ]
  },
  {
   "cell_type": "code",
   "execution_count": 1,
   "metadata": {},
   "outputs": [],
   "source": [
    "import requests\n",
    "# xml parsing\n",
    "import xmltodict\n",
    "import json\n",
    "import pandas as pd"
   ]
  },
  {
   "cell_type": "markdown",
   "metadata": {},
   "source": [
    "### 보건복지부_코로나19감염현황 조회 서비스 - XML 데이터\n",
    "* 데이터찾기 > 데이터목록\n",
    "* 오픈 API > 조회순으로 검색\n",
    "* serviceKey 값 확인하기 (미리 신청하기)\n",
    "* endpoint 확인하기 (API가 서비스되는 주소)"
   ]
  },
  {
   "cell_type": "code",
   "execution_count": 2,
   "metadata": {},
   "outputs": [
    {
     "data": {
      "text/plain": [
       "'http://openapi.data.go.kr/openapi/service/rest/Covid19/getCovid19InfStateJson?serviceKey=HIb%2F2BPBgQzxpVWatpNeU5NCBg0sGxhhURG05vt5CWkzObxA0c75Aq2%2F8yHJZovooKIlnbydLsAXTQE%2BbFwc7w%3D%3D&pageNo=1&numOfRows=10&startCreateDt=20210805&endCreateDt=20210808'"
      ]
     },
     "execution_count": 2,
     "metadata": {},
     "output_type": "execute_result"
    }
   ],
   "source": [
    "serviceKey = 'HIb%2F2BPBgQzxpVWatpNeU5NCBg0sGxhhURG05vt5CWkzObxA0c75Aq2%2F8yHJZovooKIlnbydLsAXTQE%2BbFwc7w%3D%3D'\n",
    "\n",
    "endpoint = 'http://openapi.data.go.kr/openapi/service/rest/Covid19/getCovid19InfStateJson?serviceKey={}&pageNo=1&numOfRows=10&startCreateDt=20210805&endCreateDt=20210808'.format(serviceKey)\n",
    "endpoint"
   ]
  },
  {
   "cell_type": "code",
   "execution_count": 5,
   "metadata": {},
   "outputs": [
    {
     "data": {
      "text/plain": [
       "'<?xml version=\"1.0\" encoding=\"UTF-8\" standalone=\"yes\"?><response><header><resultCode>00</resultCode><resultMsg>NORMAL SERVICE.</resultMsg></header><body><items><item><accDefRate>1.8246269102</accDefRate><accExamCnt>12027437</accExamCnt><accExamCompCnt>11561158</accExamCompCnt><careCnt>23840</careCnt><clearCnt>184987</clearCnt><createDt>2021-08-08 00:00:00.0</createDt><deathCnt>2121</deathCnt><decideCnt>210948</decideCnt><examCnt>466279</examCnt><resutlNegCnt>11350210</resutlNegCnt><seq>567</seq><stateDt>20210808</stateDt><stateTime>00:00</stateTime><updateDt>2021-10-28 20:31:36.737</updateDt></item><item><accDefRate>1.811282604</accDefRate><accExamCnt>11995923</accExamCnt><accExamCompCnt>11550986</accExamCompCnt><careCnt>23435</careCnt><clearCnt>183670</clearCnt><createDt>2021-08-07 00:00:00.000</createDt><deathCnt>2116</deathCnt><decideCnt>209221</decideCnt><examCnt>444937</examCnt><resutlNegCnt>11341765</resutlNegCnt><seq>566</seq><stateDt>20210807</stateDt><stateTime>00:00</stateTime><updateDt>2021-10-07 10:30:51.51</updateDt></item><item><accDefRate>1.799611891</accDefRate><accExamCnt>11951646</accExamCnt><accExamCompCnt>11524596</accExamCompCnt><careCnt>22828</careCnt><clearCnt>182457</clearCnt><createDt>2021-08-06 00:00:00.000</createDt><deathCnt>2113</deathCnt><decideCnt>207398</decideCnt><examCnt>427050</examCnt><resutlNegCnt>11317198</resutlNegCnt><seq>565</seq><stateDt>20210806</stateDt><stateTime>00:00</stateTime><updateDt>2021-10-07 10:30:51.51</updateDt></item><item><accDefRate>1.789742069</accDefRate><accExamCnt>11908430</accExamCnt><accExamCompCnt>11492941</accExamCompCnt><careCnt>22863</careCnt><clearCnt>180722</clearCnt><createDt>2021-08-05 00:00:00.000</createDt><deathCnt>2109</deathCnt><decideCnt>205694</decideCnt><examCnt>415489</examCnt><resutlNegCnt>11287247</resutlNegCnt><seq>564</seq><stateDt>20210805</stateDt><stateTime>00:00</stateTime><updateDt>2021-10-07 10:30:51.51</updateDt></item></items><numOfRows>10</numOfRows><pageNo>1</pageNo><totalCount>4</totalCount></body></response>'"
      ]
     },
     "execution_count": 5,
     "metadata": {},
     "output_type": "execute_result"
    }
   ],
   "source": [
    "res = requests.get(endpoint)\n",
    "res.text"
   ]
  },
  {
   "cell_type": "code",
   "execution_count": 12,
   "metadata": {},
   "outputs": [
    {
     "data": {
      "text/plain": [
       "OrderedDict([('response',\n",
       "              OrderedDict([('header',\n",
       "                            OrderedDict([('resultCode', '00'),\n",
       "                                         ('resultMsg', 'NORMAL SERVICE.')])),\n",
       "                           ('body',\n",
       "                            OrderedDict([('items',\n",
       "                                          OrderedDict([('item',\n",
       "                                                        [OrderedDict([('accDefRate',\n",
       "                                                                       '1.8246692115'),\n",
       "                                                                      ('accExamCnt',\n",
       "                                                                       '12027443'),\n",
       "                                                                      ('accExamCompCnt',\n",
       "                                                                       '11561164'),\n",
       "                                                                      ('careCnt',\n",
       "                                                                       '23829'),\n",
       "                                                                      ('clearCnt',\n",
       "                                                                       '185003'),\n",
       "                                                                      ('createDt',\n",
       "                                                                       '2021-08-08 09:43:32.979'),\n",
       "                                                                      ('deathCnt',\n",
       "                                                                       '2121'),\n",
       "                                                                      ('decideCnt',\n",
       "                                                                       '210953'),\n",
       "                                                                      ('examCnt',\n",
       "                                                                       '466279'),\n",
       "                                                                      ('resutlNegCnt',\n",
       "                                                                       '11350211'),\n",
       "                                                                      ('seq',\n",
       "                                                                       '597'),\n",
       "                                                                      ('stateDt',\n",
       "                                                                       '20210808'),\n",
       "                                                                      ('stateTime',\n",
       "                                                                       '00:00'),\n",
       "                                                                      ('updateDt',\n",
       "                                                                       '2021-08-18 10:18:16.473')]),\n",
       "                                                         OrderedDict([('accDefRate',\n",
       "                                                                       '1.8113166057'),\n",
       "                                                                      ('accExamCnt',\n",
       "                                                                       '11995927'),\n",
       "                                                                      ('accExamCompCnt',\n",
       "                                                                       '11550990'),\n",
       "                                                                      ('careCnt',\n",
       "                                                                       '23321'),\n",
       "                                                                      ('clearCnt',\n",
       "                                                                       '183788'),\n",
       "                                                                      ('createDt',\n",
       "                                                                       '2021-08-07 09:40:18.999'),\n",
       "                                                                      ('deathCnt',\n",
       "                                                                       '2116'),\n",
       "                                                                      ('decideCnt',\n",
       "                                                                       '209225'),\n",
       "                                                                      ('examCnt',\n",
       "                                                                       '444937'),\n",
       "                                                                      ('resutlNegCnt',\n",
       "                                                                       '11341765'),\n",
       "                                                                      ('seq',\n",
       "                                                                       '596'),\n",
       "                                                                      ('stateDt',\n",
       "                                                                       '20210807'),\n",
       "                                                                      ('stateTime',\n",
       "                                                                       '00:00'),\n",
       "                                                                      ('updateDt',\n",
       "                                                                       '2021-08-18 10:18:03.621')]),\n",
       "                                                         OrderedDict([('accDefRate',\n",
       "                                                                       '1.7996458185'),\n",
       "                                                                      ('accExamCnt',\n",
       "                                                                       '11951651'),\n",
       "                                                                      ('accExamCompCnt',\n",
       "                                                                       '11524601'),\n",
       "                                                                      ('careCnt',\n",
       "                                                                       '23235'),\n",
       "                                                                      ('clearCnt',\n",
       "                                                                       '182054'),\n",
       "                                                                      ('createDt',\n",
       "                                                                       '2021-08-06 09:43:45.386'),\n",
       "                                                                      ('deathCnt',\n",
       "                                                                       '2113'),\n",
       "                                                                      ('decideCnt',\n",
       "                                                                       '207402'),\n",
       "                                                                      ('examCnt',\n",
       "                                                                       '427050'),\n",
       "                                                                      ('resutlNegCnt',\n",
       "                                                                       '11317199'),\n",
       "                                                                      ('seq',\n",
       "                                                                       '595'),\n",
       "                                                                      ('stateDt',\n",
       "                                                                       '20210806'),\n",
       "                                                                      ('stateTime',\n",
       "                                                                       '00:00'),\n",
       "                                                                      ('updateDt',\n",
       "                                                                       '2021-08-18 10:17:34.677')]),\n",
       "                                                         OrderedDict([('accDefRate',\n",
       "                                                                       '1.7897760939'),\n",
       "                                                                      ('accExamCnt',\n",
       "                                                                       '11908435'),\n",
       "                                                                      ('accExamCompCnt',\n",
       "                                                                       '11492946'),\n",
       "                                                                      ('careCnt',\n",
       "                                                                       '22868'),\n",
       "                                                                      ('clearCnt',\n",
       "                                                                       '180721'),\n",
       "                                                                      ('createDt',\n",
       "                                                                       '2021-08-05 09:50:52.915'),\n",
       "                                                                      ('deathCnt',\n",
       "                                                                       '2109'),\n",
       "                                                                      ('decideCnt',\n",
       "                                                                       '205698'),\n",
       "                                                                      ('examCnt',\n",
       "                                                                       '415489'),\n",
       "                                                                      ('resutlNegCnt',\n",
       "                                                                       '11287248'),\n",
       "                                                                      ('seq',\n",
       "                                                                       '594'),\n",
       "                                                                      ('stateDt',\n",
       "                                                                       '20210805'),\n",
       "                                                                      ('stateTime',\n",
       "                                                                       '00:00'),\n",
       "                                                                      ('updateDt',\n",
       "                                                                       '2021-08-18 10:17:14.68')])])])),\n",
       "                                         ('numOfRows', '10'),\n",
       "                                         ('pageNo', '1'),\n",
       "                                         ('totalCount', '4')]))]))])"
      ]
     },
     "execution_count": 12,
     "metadata": {},
     "output_type": "execute_result"
    }
   ],
   "source": [
    "temp = xmltodict.parse(res.text) # return collections.OrderedDict\n",
    "temp"
   ]
  },
  {
   "cell_type": "code",
   "execution_count": 28,
   "metadata": {},
   "outputs": [
    {
     "data": {
      "text/plain": [
       "{'response': {'header': {'resultCode': '00', 'resultMsg': 'NORMAL SERVICE.'},\n",
       "  'body': {'items': {'item': [{'accDefRate': '1.8246692115',\n",
       "      'accExamCnt': '12027443',\n",
       "      'accExamCompCnt': '11561164',\n",
       "      'careCnt': '23829',\n",
       "      'clearCnt': '185003',\n",
       "      'createDt': '2021-08-08 09:43:32.979',\n",
       "      'deathCnt': '2121',\n",
       "      'decideCnt': '210953',\n",
       "      'examCnt': '466279',\n",
       "      'resutlNegCnt': '11350211',\n",
       "      'seq': '597',\n",
       "      'stateDt': '20210808',\n",
       "      'stateTime': '00:00',\n",
       "      'updateDt': '2021-08-18 10:18:16.473'},\n",
       "     {'accDefRate': '1.8113166057',\n",
       "      'accExamCnt': '11995927',\n",
       "      'accExamCompCnt': '11550990',\n",
       "      'careCnt': '23321',\n",
       "      'clearCnt': '183788',\n",
       "      'createDt': '2021-08-07 09:40:18.999',\n",
       "      'deathCnt': '2116',\n",
       "      'decideCnt': '209225',\n",
       "      'examCnt': '444937',\n",
       "      'resutlNegCnt': '11341765',\n",
       "      'seq': '596',\n",
       "      'stateDt': '20210807',\n",
       "      'stateTime': '00:00',\n",
       "      'updateDt': '2021-08-18 10:18:03.621'},\n",
       "     {'accDefRate': '1.7996458185',\n",
       "      'accExamCnt': '11951651',\n",
       "      'accExamCompCnt': '11524601',\n",
       "      'careCnt': '23235',\n",
       "      'clearCnt': '182054',\n",
       "      'createDt': '2021-08-06 09:43:45.386',\n",
       "      'deathCnt': '2113',\n",
       "      'decideCnt': '207402',\n",
       "      'examCnt': '427050',\n",
       "      'resutlNegCnt': '11317199',\n",
       "      'seq': '595',\n",
       "      'stateDt': '20210806',\n",
       "      'stateTime': '00:00',\n",
       "      'updateDt': '2021-08-18 10:17:34.677'},\n",
       "     {'accDefRate': '1.7897760939',\n",
       "      'accExamCnt': '11908435',\n",
       "      'accExamCompCnt': '11492946',\n",
       "      'careCnt': '22868',\n",
       "      'clearCnt': '180721',\n",
       "      'createDt': '2021-08-05 09:50:52.915',\n",
       "      'deathCnt': '2109',\n",
       "      'decideCnt': '205698',\n",
       "      'examCnt': '415489',\n",
       "      'resutlNegCnt': '11287248',\n",
       "      'seq': '594',\n",
       "      'stateDt': '20210805',\n",
       "      'stateTime': '00:00',\n",
       "      'updateDt': '2021-08-18 10:17:14.68'}]},\n",
       "   'numOfRows': '10',\n",
       "   'pageNo': '1',\n",
       "   'totalCount': '4'}}}"
      ]
     },
     "execution_count": 28,
     "metadata": {},
     "output_type": "execute_result"
    }
   ],
   "source": [
    "result = json.loads(json.dumps(temp)) # string -> dict\n",
    "result"
   ]
  },
  {
   "cell_type": "code",
   "execution_count": 29,
   "metadata": {},
   "outputs": [
    {
     "name": "stdout",
     "output_type": "stream",
     "text": [
      "20210808\n",
      "20210807\n",
      "20210806\n",
      "20210805\n"
     ]
    }
   ],
   "source": [
    "items = result['response']['body']['items']['item']\n",
    "for item in items:\n",
    "    print(item['stateDt'])"
   ]
  },
  {
   "cell_type": "code",
   "execution_count": 30,
   "metadata": {},
   "outputs": [
    {
     "data": {
      "text/plain": [
       "['20210808', '20210807', '20210806', '20210805']"
      ]
     },
     "execution_count": 30,
     "metadata": {},
     "output_type": "execute_result"
    }
   ],
   "source": [
    "items = result['response']['body']['items']['item']\n",
    "stateDt_list = []    # 기준일\n",
    "decideCnt_list = []  # 확진자수\n",
    "deathCnt_list = []   # 사망자수\n",
    "careCnt_list = []    # 치료중 환자수\n",
    "for item in items:\n",
    "    #print(item['name'])\n",
    "    stateDt_list.append(item['stateDt'])\n",
    "    decideCnt_list.append(item['decideCnt'])\n",
    "    deathCnt_list.append(item['deathCnt'])\n",
    "    careCnt_list.append(item['careCnt'])\n",
    "stateDt_list"
   ]
  },
  {
   "cell_type": "code",
   "execution_count": 31,
   "metadata": {},
   "outputs": [
    {
     "data": {
      "text/plain": [
       "{'기준일': ['20210808', '20210807', '20210806', '20210805'],\n",
       " '확진자수': ['210953', '209225', '207402', '205698'],\n",
       " '사망자수': ['2121', '2116', '2113', '2109'],\n",
       " '치료중환자수': ['23829', '23321', '23235', '22868']}"
      ]
     },
     "execution_count": 31,
     "metadata": {},
     "output_type": "execute_result"
    }
   ],
   "source": [
    "# dataframe 형태로 만들기\n",
    "df_data = {'기준일': stateDt_list, \n",
    "           '확진자수': decideCnt_list, \n",
    "           '사망자수': deathCnt_list,\n",
    "           '치료중환자수': careCnt_list}\n",
    "df_data"
   ]
  },
  {
   "cell_type": "code",
   "execution_count": 32,
   "metadata": {},
   "outputs": [
    {
     "data": {
      "text/html": [
       "<div>\n",
       "<style scoped>\n",
       "    .dataframe tbody tr th:only-of-type {\n",
       "        vertical-align: middle;\n",
       "    }\n",
       "\n",
       "    .dataframe tbody tr th {\n",
       "        vertical-align: top;\n",
       "    }\n",
       "\n",
       "    .dataframe thead th {\n",
       "        text-align: right;\n",
       "    }\n",
       "</style>\n",
       "<table border=\"1\" class=\"dataframe\">\n",
       "  <thead>\n",
       "    <tr style=\"text-align: right;\">\n",
       "      <th></th>\n",
       "      <th>기준일</th>\n",
       "      <th>확진자수</th>\n",
       "      <th>사망자수</th>\n",
       "      <th>치료중환자수</th>\n",
       "    </tr>\n",
       "  </thead>\n",
       "  <tbody>\n",
       "    <tr>\n",
       "      <th>0</th>\n",
       "      <td>20210808</td>\n",
       "      <td>210953</td>\n",
       "      <td>2121</td>\n",
       "      <td>23829</td>\n",
       "    </tr>\n",
       "    <tr>\n",
       "      <th>1</th>\n",
       "      <td>20210807</td>\n",
       "      <td>209225</td>\n",
       "      <td>2116</td>\n",
       "      <td>23321</td>\n",
       "    </tr>\n",
       "    <tr>\n",
       "      <th>2</th>\n",
       "      <td>20210806</td>\n",
       "      <td>207402</td>\n",
       "      <td>2113</td>\n",
       "      <td>23235</td>\n",
       "    </tr>\n",
       "    <tr>\n",
       "      <th>3</th>\n",
       "      <td>20210805</td>\n",
       "      <td>205698</td>\n",
       "      <td>2109</td>\n",
       "      <td>22868</td>\n",
       "    </tr>\n",
       "  </tbody>\n",
       "</table>\n",
       "</div>"
      ],
      "text/plain": [
       "        기준일    확진자수  사망자수 치료중환자수\n",
       "0  20210808  210953  2121  23829\n",
       "1  20210807  209225  2116  23321\n",
       "2  20210806  207402  2113  23235\n",
       "3  20210805  205698  2109  22868"
      ]
     },
     "execution_count": 32,
     "metadata": {},
     "output_type": "execute_result"
    }
   ],
   "source": [
    "df = pd.DataFrame(data=df_data)\n",
    "df"
   ]
  },
  {
   "cell_type": "markdown",
   "metadata": {},
   "source": [
    "### 한국관광공사_국문 관광정보 서비스 - JSON 데이터\n",
    "* 데이터찾기 > 데이터목록\n",
    "* 오픈 API > 활용순으로 검색"
   ]
  },
  {
   "cell_type": "code",
   "execution_count": 33,
   "metadata": {},
   "outputs": [
    {
     "data": {
      "text/plain": [
       "'http://api.visitkorea.or.kr/openapi/service/rest/KorService/areaCode?ServiceKey=HIb%2F2BPBgQzxpVWatpNeU5NCBg0sGxhhURG05vt5CWkzObxA0c75Aq2%2F8yHJZovooKIlnbydLsAXTQE%2BbFwc7w%3D%3D&pageNo=1&numOfRows=10&MobileOS=ETC&MobileApp=AppTest&_type=json'"
      ]
     },
     "execution_count": 33,
     "metadata": {},
     "output_type": "execute_result"
    }
   ],
   "source": [
    "serviceKey = 'HIb%2F2BPBgQzxpVWatpNeU5NCBg0sGxhhURG05vt5CWkzObxA0c75Aq2%2F8yHJZovooKIlnbydLsAXTQE%2BbFwc7w%3D%3D'\n",
    "pageNo = 1\n",
    "\n",
    "endpoint = 'http://api.visitkorea.or.kr/openapi/service/rest/KorService/areaCode?ServiceKey={}&pageNo={}&numOfRows=10&MobileOS=ETC&MobileApp=AppTest&_type=json'.format(serviceKey, pageNo)\n",
    "endpoint"
   ]
  },
  {
   "cell_type": "code",
   "execution_count": 34,
   "metadata": {},
   "outputs": [
    {
     "data": {
      "text/plain": [
       "{'response': {'header': {'resultCode': '0000', 'resultMsg': 'OK'},\n",
       "  'body': {'items': {'item': [{'code': 1, 'name': '서울', 'rnum': 1},\n",
       "     {'code': 2, 'name': '인천', 'rnum': 2},\n",
       "     {'code': 3, 'name': '대전', 'rnum': 3},\n",
       "     {'code': 4, 'name': '대구', 'rnum': 4},\n",
       "     {'code': 5, 'name': '광주', 'rnum': 5},\n",
       "     {'code': 6, 'name': '부산', 'rnum': 6},\n",
       "     {'code': 7, 'name': '울산', 'rnum': 7},\n",
       "     {'code': 8, 'name': '세종특별자치시', 'rnum': 8},\n",
       "     {'code': 31, 'name': '경기도', 'rnum': 9},\n",
       "     {'code': 32, 'name': '강원도', 'rnum': 10}]},\n",
       "   'numOfRows': 10,\n",
       "   'pageNo': 1,\n",
       "   'totalCount': 17}}}"
      ]
     },
     "execution_count": 34,
     "metadata": {},
     "output_type": "execute_result"
    }
   ],
   "source": [
    "res = requests.get(endpoint)\n",
    "data = res.json()\n",
    "data"
   ]
  },
  {
   "cell_type": "code",
   "execution_count": 35,
   "metadata": {},
   "outputs": [
    {
     "data": {
      "text/plain": [
       "2"
      ]
     },
     "execution_count": 35,
     "metadata": {},
     "output_type": "execute_result"
    }
   ],
   "source": [
    "numOfRows = data['response']['body']['numOfRows']\n",
    "totalCount = data['response']['body']['totalCount']\n",
    "\n",
    "queryCount = totalCount // numOfRows\n",
    "if totalCount % numOfRows > 0:\n",
    "    queryCount += 1\n",
    "queryCount"
   ]
  },
  {
   "cell_type": "code",
   "execution_count": 36,
   "metadata": {},
   "outputs": [
    {
     "data": {
      "text/plain": [
       "[1, 2, 3, 4, 5, 6, 7, 8, 31, 32, 33, 34, 35, 36, 37, 38, 39]"
      ]
     },
     "execution_count": 36,
     "metadata": {},
     "output_type": "execute_result"
    }
   ],
   "source": [
    "code_list = []\n",
    "name_list = []\n",
    "rnum_list = []\n",
    "\n",
    "for i in range(queryCount):\n",
    "    pageNo = i + 1\n",
    "    endpoint = 'http://api.visitkorea.or.kr/openapi/service/rest/KorService/areaCode?ServiceKey={}&pageNo={}&numOfRows=10&MobileOS=ETC&MobileApp=AppTest&_type=json'.format(serviceKey, pageNo)\n",
    "    res = requests.get(endpoint)\n",
    "    data = res.json()\n",
    "\n",
    "    items = data['response']['body']['items']['item']\n",
    "    for item in items:\n",
    "        #print(item['name'])\n",
    "        code_list.append(item['code'])\n",
    "        name_list.append(item['name'])\n",
    "        rnum_list.append(item['rnum'])\n",
    "code_list"
   ]
  },
  {
   "cell_type": "code",
   "execution_count": 37,
   "metadata": {},
   "outputs": [
    {
     "data": {
      "text/plain": [
       "{'code': [1, 2, 3, 4, 5, 6, 7, 8, 31, 32, 33, 34, 35, 36, 37, 38, 39],\n",
       " 'name': ['서울',\n",
       "  '인천',\n",
       "  '대전',\n",
       "  '대구',\n",
       "  '광주',\n",
       "  '부산',\n",
       "  '울산',\n",
       "  '세종특별자치시',\n",
       "  '경기도',\n",
       "  '강원도',\n",
       "  '충청북도',\n",
       "  '충청남도',\n",
       "  '경상북도',\n",
       "  '경상남도',\n",
       "  '전라북도',\n",
       "  '전라남도',\n",
       "  '제주도'],\n",
       " 'rnum': [1, 2, 3, 4, 5, 6, 7, 8, 9, 10, 11, 12, 13, 14, 15, 16, 17]}"
      ]
     },
     "execution_count": 37,
     "metadata": {},
     "output_type": "execute_result"
    }
   ],
   "source": [
    "# dataframe 형태로 만들기\n",
    "df_data = {'code': code_list, \n",
    "           'name': name_list, \n",
    "           'rnum': rnum_list}\n",
    "df_data"
   ]
  },
  {
   "cell_type": "code",
   "execution_count": 38,
   "metadata": {},
   "outputs": [
    {
     "data": {
      "text/html": [
       "<div>\n",
       "<style scoped>\n",
       "    .dataframe tbody tr th:only-of-type {\n",
       "        vertical-align: middle;\n",
       "    }\n",
       "\n",
       "    .dataframe tbody tr th {\n",
       "        vertical-align: top;\n",
       "    }\n",
       "\n",
       "    .dataframe thead th {\n",
       "        text-align: right;\n",
       "    }\n",
       "</style>\n",
       "<table border=\"1\" class=\"dataframe\">\n",
       "  <thead>\n",
       "    <tr style=\"text-align: right;\">\n",
       "      <th></th>\n",
       "      <th>code</th>\n",
       "      <th>name</th>\n",
       "      <th>rnum</th>\n",
       "    </tr>\n",
       "  </thead>\n",
       "  <tbody>\n",
       "    <tr>\n",
       "      <th>0</th>\n",
       "      <td>1</td>\n",
       "      <td>서울</td>\n",
       "      <td>1</td>\n",
       "    </tr>\n",
       "    <tr>\n",
       "      <th>1</th>\n",
       "      <td>2</td>\n",
       "      <td>인천</td>\n",
       "      <td>2</td>\n",
       "    </tr>\n",
       "    <tr>\n",
       "      <th>2</th>\n",
       "      <td>3</td>\n",
       "      <td>대전</td>\n",
       "      <td>3</td>\n",
       "    </tr>\n",
       "    <tr>\n",
       "      <th>3</th>\n",
       "      <td>4</td>\n",
       "      <td>대구</td>\n",
       "      <td>4</td>\n",
       "    </tr>\n",
       "    <tr>\n",
       "      <th>4</th>\n",
       "      <td>5</td>\n",
       "      <td>광주</td>\n",
       "      <td>5</td>\n",
       "    </tr>\n",
       "    <tr>\n",
       "      <th>5</th>\n",
       "      <td>6</td>\n",
       "      <td>부산</td>\n",
       "      <td>6</td>\n",
       "    </tr>\n",
       "    <tr>\n",
       "      <th>6</th>\n",
       "      <td>7</td>\n",
       "      <td>울산</td>\n",
       "      <td>7</td>\n",
       "    </tr>\n",
       "    <tr>\n",
       "      <th>7</th>\n",
       "      <td>8</td>\n",
       "      <td>세종특별자치시</td>\n",
       "      <td>8</td>\n",
       "    </tr>\n",
       "    <tr>\n",
       "      <th>8</th>\n",
       "      <td>31</td>\n",
       "      <td>경기도</td>\n",
       "      <td>9</td>\n",
       "    </tr>\n",
       "    <tr>\n",
       "      <th>9</th>\n",
       "      <td>32</td>\n",
       "      <td>강원도</td>\n",
       "      <td>10</td>\n",
       "    </tr>\n",
       "    <tr>\n",
       "      <th>10</th>\n",
       "      <td>33</td>\n",
       "      <td>충청북도</td>\n",
       "      <td>11</td>\n",
       "    </tr>\n",
       "    <tr>\n",
       "      <th>11</th>\n",
       "      <td>34</td>\n",
       "      <td>충청남도</td>\n",
       "      <td>12</td>\n",
       "    </tr>\n",
       "    <tr>\n",
       "      <th>12</th>\n",
       "      <td>35</td>\n",
       "      <td>경상북도</td>\n",
       "      <td>13</td>\n",
       "    </tr>\n",
       "    <tr>\n",
       "      <th>13</th>\n",
       "      <td>36</td>\n",
       "      <td>경상남도</td>\n",
       "      <td>14</td>\n",
       "    </tr>\n",
       "    <tr>\n",
       "      <th>14</th>\n",
       "      <td>37</td>\n",
       "      <td>전라북도</td>\n",
       "      <td>15</td>\n",
       "    </tr>\n",
       "    <tr>\n",
       "      <th>15</th>\n",
       "      <td>38</td>\n",
       "      <td>전라남도</td>\n",
       "      <td>16</td>\n",
       "    </tr>\n",
       "    <tr>\n",
       "      <th>16</th>\n",
       "      <td>39</td>\n",
       "      <td>제주도</td>\n",
       "      <td>17</td>\n",
       "    </tr>\n",
       "  </tbody>\n",
       "</table>\n",
       "</div>"
      ],
      "text/plain": [
       "    code     name  rnum\n",
       "0      1       서울     1\n",
       "1      2       인천     2\n",
       "2      3       대전     3\n",
       "3      4       대구     4\n",
       "4      5       광주     5\n",
       "5      6       부산     6\n",
       "6      7       울산     7\n",
       "7      8  세종특별자치시     8\n",
       "8     31      경기도     9\n",
       "9     32      강원도    10\n",
       "10    33     충청북도    11\n",
       "11    34     충청남도    12\n",
       "12    35     경상북도    13\n",
       "13    36     경상남도    14\n",
       "14    37     전라북도    15\n",
       "15    38     전라남도    16\n",
       "16    39      제주도    17"
      ]
     },
     "execution_count": 38,
     "metadata": {},
     "output_type": "execute_result"
    }
   ],
   "source": [
    "df = pd.DataFrame(data=df_data)\n",
    "df"
   ]
  },
  {
   "cell_type": "code",
   "execution_count": null,
   "metadata": {},
   "outputs": [],
   "source": []
  }
 ],
 "metadata": {
  "kernelspec": {
   "display_name": "Python 3",
   "language": "python",
   "name": "python3"
  },
  "language_info": {
   "codemirror_mode": {
    "name": "ipython",
    "version": 3
   },
   "file_extension": ".py",
   "mimetype": "text/x-python",
   "name": "python",
   "nbconvert_exporter": "python",
   "pygments_lexer": "ipython3",
   "version": "3.8.5"
  }
 },
 "nbformat": 4,
 "nbformat_minor": 4
}
