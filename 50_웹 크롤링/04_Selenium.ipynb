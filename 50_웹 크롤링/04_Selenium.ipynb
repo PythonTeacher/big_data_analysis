{
 "cells": [
  {
   "cell_type": "markdown",
   "metadata": {},
   "source": [
    "# 5. Selenium 사용하기\n",
    "* 웹페이지 테스트 자동화용 모듈\n",
    "* 개발/테스트용 드라이버(웹브라우저)를 사용하여 실제 사용자가 사용하는 것처럼 동작\n",
    "* https://selenium-python.readthedocs.io/index.html"
   ]
  },
  {
   "cell_type": "markdown",
   "metadata": {},
   "source": [
    "### selenium 설치\n",
    "* anaconda selenium으로 검색\n",
    "* conda install -c conda-forge selenium"
   ]
  },
  {
   "cell_type": "markdown",
   "metadata": {},
   "source": [
    "### 크롬 드라이버 다운로드\n",
    "* 크롬 브라우저 버전 확인 (도움말 -> Chrome 정보)\n",
    "* https://chromedriver.chromium.org/downloads\n",
    "* chrome browser 버전에 맞게 다운로드하기\n",
    "* C:\\Jupyterlab에 압축풀기"
   ]
  },
  {
   "cell_type": "code",
   "execution_count": 12,
   "metadata": {},
   "outputs": [],
   "source": [
    "from selenium import webdriver\n",
    "from selenium.webdriver.common.keys import Keys\n",
    "from selenium.webdriver.common.by import By\n",
    "from selenium.webdriver.support.ui import WebDriverWait\n",
    "from selenium.webdriver.support import expected_conditions as EC\n",
    "\n",
    "from bs4 import BeautifulSoup\n",
    "import time\n",
    "import pandas as pd"
   ]
  },
  {
   "cell_type": "code",
   "execution_count": 2,
   "metadata": {},
   "outputs": [
    {
     "name": "stdout",
     "output_type": "stream",
     "text": [
      "Welcome to Python.org\n",
      "<html class=\"js no-touch geolocation fontface generatedcontent svg formvalidation placeholder boxsizing retina\" lang=\"en\" dir=\"ltr\" style=\"\"><!--<![endif]--><head>\n",
      "    <meta charset=\"utf-8\">\n",
      "    <meta http-equiv=\"X-UA-Compatible\" content=\"IE=edge\">\n",
      "\n",
      "    <link rel=\"prefetch\" href=\"//ajax.googleapis.com/ajax/libs/jquery/1.8.2/jquery.min.js\">\n",
      "    <link rel=\"prefetch\" href=\"//ajax.googleapis.com/ajax/libs/jqueryui/1.12.1/jquery-ui.min.js\">\n",
      "\n",
      "    <meta name=\"application-name\" content=\"Python.org\">\n",
      "   \n"
     ]
    }
   ],
   "source": [
    "from selenium import webdriver\n",
    "from selenium.webdriver.common.keys import Keys\n",
    "import time\n",
    "\n",
    "chrome_driver = 'C:\\\\JupyterLab\\\\chromedriver.exe'\n",
    "driver = webdriver.Chrome(chrome_driver)  # chrome driver로 해당 페이지가 물리적으로 open\n",
    "driver.get(\"http://www.python.org\")\n",
    "print(driver.title)\n",
    "\n",
    "elem = driver.find_element_by_name(\"q\")\n",
    "elem.clear()\n",
    "elem.send_keys(\"pycon\")\n",
    "\n",
    "time.sleep(3)\n",
    "elem.send_keys(Keys.RETURN)\n",
    "time.sleep(3)\n",
    "\n",
    "print(driver.page_source[:500])\n",
    "driver.close()  # chrome driver 사용 후, close 함수로 종료"
   ]
  },
  {
   "cell_type": "markdown",
   "metadata": {},
   "source": [
    "### 네이버 자동 검색하기"
   ]
  },
  {
   "cell_type": "code",
   "execution_count": 13,
   "metadata": {},
   "outputs": [
    {
     "name": "stdout",
     "output_type": "stream",
     "text": [
      "<html lang=\"ko\" data-useragent=\"mozilla/5.0 (windows nt 10.0; win64; x64) applewebkit/537.36 (khtml, like gecko) chrome/93.0.4577.63 safari/537.36\" data-platform=\"win32\"><head> <meta charset=\"utf-8\"> <meta name=\"referrer\" content=\"always\">  <meta name=\"format-detection\" content=\"telephone=no,address=no,email=no\"> <meta name=\"viewport\" content=\"width=device-width,initial-scale=1.0,maximum-scale=2.0\"> <meta property=\"og:title\" content=\"디미고 : 네이버 통합검색\"> <meta property=\"og:image\" content=\"https://ss\n"
     ]
    }
   ],
   "source": [
    "#chrome_driver = 'C:\\\\JupyterLab\\\\chromedriver.exe'\n",
    "driver = webdriver.Chrome(chrome_driver)\n",
    "\n",
    "url = 'https://www.naver.com/'\n",
    "driver.get(url)\n",
    "\n",
    "query = driver.find_element_by_id('query')\n",
    "\n",
    "query.clear()\n",
    "query.send_keys('디미고')\n",
    "\n",
    "time.sleep(3)\n",
    "query.send_keys(Keys.RETURN)\n",
    "time.sleep(3)\n",
    "\n",
    "print(driver.page_source[:500])\n",
    "driver.close()"
   ]
  },
  {
   "cell_type": "markdown",
   "metadata": {},
   "source": [
    "### 스타벅스 매장 찾기\n",
    "* 매장찾기 > 지역검색"
   ]
  },
  {
   "cell_type": "code",
   "execution_count": null,
   "metadata": {},
   "outputs": [],
   "source": [
    "#chrome_driver = 'C:\\\\JupyterLab\\\\chromedriver.exe'\n",
    "driver = webdriver.Chrome(chrome_driver)\n",
    "\n",
    "url = 'https://www.starbucks.co.kr/store/store_map.do?disp=locale'\n",
    "driver.get(url)\n",
    "\n",
    "# 해당 element가 로딩 될때까지 대기\n",
    "WebDriverWait(driver, 10).until(EC.presence_of_element_located((By.CSS_SELECTOR, '.set_sido_cd_btn')))\n",
    "\n",
    "# 서울 클릭\n",
    "# Copy > Copy Selector\n",
    "seoul_css = '#container > div > form > fieldset > div > section > article.find_store_cont > article > article:nth-child(4) > div.loca_step1 > div.loca_step1_cont > ul > li:nth-child(1) > a'\n",
    "driver.find_element_by_css_selector(seoul_css).click()\n",
    "\n",
    "time.sleep(2)\n",
    "\n",
    "# 전체 클릭\n",
    "all_css = '#mCSB_2_container > ul > li:nth-child(1) > a'\n",
    "driver.find_element_by_css_selector(all_css).click()\n",
    "\n",
    "time.sleep(2)\n",
    "\n",
    "html = driver.page_source\n",
    "soup = BeautifulSoup(html)\n",
    "\n",
    "driver.close()"
   ]
  },
  {
   "cell_type": "code",
   "execution_count": 42,
   "metadata": {},
   "outputs": [
    {
     "data": {
      "text/plain": [
       "<li class=\"quickResultLstCon\" data-code=\"3762\" data-hlytag=\"null\" data-index=\"0\" data-lat=\"37.501087\" data-long=\"127.043069\" data-name=\"역삼아레나빌딩\" data-storecd=\"1509\" style=\"background:#fff\"> <strong data-my_siren_order_store_yn=\"N\" data-name=\"역삼아레나빌딩\" data-store=\"1509\" data-yn=\"N\">역삼아레나빌딩  </strong> <p class=\"result_details\">서울특별시 강남구 언주로 425 (역삼동)<br/>1522-3232</p> <i class=\"pin_general\">리저브 매장 2번</i></li>"
      ]
     },
     "execution_count": 42,
     "metadata": {},
     "output_type": "execute_result"
    }
   ],
   "source": [
    "store = soup.select('.quickResultLstCon')[0]\n",
    "store"
   ]
  },
  {
   "cell_type": "code",
   "execution_count": 50,
   "metadata": {},
   "outputs": [
    {
     "data": {
      "text/plain": [
       "('중화역', '37.60170912407773', '127.07841136432036', '서울특별시 중랑구 봉화산로 35 1,2층')"
      ]
     },
     "execution_count": 50,
     "metadata": {},
     "output_type": "execute_result"
    }
   ],
   "source": [
    "name = store['data-name'].strip()  #name = store.select_one('strong').text.strip()\n",
    "lat = store['data-lat'].strip()\n",
    "long = store['data-long'].strip()\n",
    "address = store.find('p').get_text().split('1522')[0]  #address = store.select_one('p').text.split('1522')[0]\n",
    "name, lat, long, address"
   ]
  },
  {
   "cell_type": "code",
   "execution_count": 51,
   "metadata": {},
   "outputs": [
    {
     "data": {
      "text/plain": [
       "['역삼아레나빌딩', '37.501087', '127.043069', '서울특별시 강남구 언주로 425 (역삼동)']"
      ]
     },
     "execution_count": 51,
     "metadata": {},
     "output_type": "execute_result"
    }
   ],
   "source": [
    "store_list = []\n",
    "\n",
    "for store in soup.select('.quickResultLstCon'):\n",
    "    name = store['data-name'].strip()  #store.select_one('strong').text.strip()\n",
    "    lat = store['data-lat'].strip()\n",
    "    long = store['data-long'].strip()\n",
    "    address = store.find('p').get_text().split('1522')[0]  #store.select_one('p').text.split('1522')[0]\n",
    "\n",
    "    store_list.append([name, lat, long, address])\n",
    "\n",
    "store_list[0]"
   ]
  },
  {
   "cell_type": "code",
   "execution_count": 54,
   "metadata": {},
   "outputs": [
    {
     "data": {
      "text/html": [
       "<div>\n",
       "<style scoped>\n",
       "    .dataframe tbody tr th:only-of-type {\n",
       "        vertical-align: middle;\n",
       "    }\n",
       "\n",
       "    .dataframe tbody tr th {\n",
       "        vertical-align: top;\n",
       "    }\n",
       "\n",
       "    .dataframe thead th {\n",
       "        text-align: right;\n",
       "    }\n",
       "</style>\n",
       "<table border=\"1\" class=\"dataframe\">\n",
       "  <thead>\n",
       "    <tr style=\"text-align: right;\">\n",
       "      <th></th>\n",
       "      <th>매장명</th>\n",
       "      <th>위도</th>\n",
       "      <th>경도</th>\n",
       "      <th>주소</th>\n",
       "    </tr>\n",
       "  </thead>\n",
       "  <tbody>\n",
       "    <tr>\n",
       "      <th>0</th>\n",
       "      <td>역삼아레나빌딩</td>\n",
       "      <td>37.501087</td>\n",
       "      <td>127.043069</td>\n",
       "      <td>서울특별시 강남구 언주로 425 (역삼동)</td>\n",
       "    </tr>\n",
       "    <tr>\n",
       "      <th>1</th>\n",
       "      <td>논현역사거리</td>\n",
       "      <td>37.510178</td>\n",
       "      <td>127.022223</td>\n",
       "      <td>서울특별시 강남구 강남대로 538 (논현동)</td>\n",
       "    </tr>\n",
       "    <tr>\n",
       "      <th>2</th>\n",
       "      <td>신사역성일빌딩</td>\n",
       "      <td>37.514132</td>\n",
       "      <td>127.020563</td>\n",
       "      <td>서울특별시 강남구 강남대로 584 (논현동)</td>\n",
       "    </tr>\n",
       "    <tr>\n",
       "      <th>3</th>\n",
       "      <td>국기원사거리</td>\n",
       "      <td>37.499517</td>\n",
       "      <td>127.031495</td>\n",
       "      <td>서울특별시 강남구 테헤란로 125 (역삼동)</td>\n",
       "    </tr>\n",
       "    <tr>\n",
       "      <th>4</th>\n",
       "      <td>스탈릿대치R</td>\n",
       "      <td>37.494668</td>\n",
       "      <td>127.062583</td>\n",
       "      <td>서울특별시 강남구 남부순환로 2947 (대치동)</td>\n",
       "    </tr>\n",
       "    <tr>\n",
       "      <th>...</th>\n",
       "      <td>...</td>\n",
       "      <td>...</td>\n",
       "      <td>...</td>\n",
       "      <td>...</td>\n",
       "    </tr>\n",
       "    <tr>\n",
       "      <th>558</th>\n",
       "      <td>사가정역</td>\n",
       "      <td>37.579594</td>\n",
       "      <td>127.087966</td>\n",
       "      <td>서울특별시 중랑구 면목로 310</td>\n",
       "    </tr>\n",
       "    <tr>\n",
       "      <th>559</th>\n",
       "      <td>상봉역</td>\n",
       "      <td>37.59689</td>\n",
       "      <td>127.08647</td>\n",
       "      <td>서울특별시 중랑구 망우로 307 (상봉동)</td>\n",
       "    </tr>\n",
       "    <tr>\n",
       "      <th>560</th>\n",
       "      <td>묵동이마트</td>\n",
       "      <td>37.613433</td>\n",
       "      <td>127.077484</td>\n",
       "      <td>서울특별시 중랑구 동일로 932 (묵동, 묵동자이아파트) (묵동이마트 B1층)</td>\n",
       "    </tr>\n",
       "    <tr>\n",
       "      <th>561</th>\n",
       "      <td>묵동</td>\n",
       "      <td>37.615368</td>\n",
       "      <td>127.076633</td>\n",
       "      <td>서울특별시 중랑구 동일로 952</td>\n",
       "    </tr>\n",
       "    <tr>\n",
       "      <th>562</th>\n",
       "      <td>중화역</td>\n",
       "      <td>37.60170912407773</td>\n",
       "      <td>127.07841136432036</td>\n",
       "      <td>서울특별시 중랑구 봉화산로 35 1,2층</td>\n",
       "    </tr>\n",
       "  </tbody>\n",
       "</table>\n",
       "<p>563 rows × 4 columns</p>\n",
       "</div>"
      ],
      "text/plain": [
       "         매장명                 위도                  경도  \\\n",
       "0    역삼아레나빌딩          37.501087          127.043069   \n",
       "1     논현역사거리          37.510178          127.022223   \n",
       "2    신사역성일빌딩          37.514132          127.020563   \n",
       "3     국기원사거리          37.499517          127.031495   \n",
       "4     스탈릿대치R          37.494668          127.062583   \n",
       "..       ...                ...                 ...   \n",
       "558     사가정역          37.579594          127.087966   \n",
       "559      상봉역           37.59689           127.08647   \n",
       "560    묵동이마트          37.613433          127.077484   \n",
       "561       묵동          37.615368          127.076633   \n",
       "562      중화역  37.60170912407773  127.07841136432036   \n",
       "\n",
       "                                              주소  \n",
       "0                        서울특별시 강남구 언주로 425 (역삼동)  \n",
       "1                       서울특별시 강남구 강남대로 538 (논현동)  \n",
       "2                       서울특별시 강남구 강남대로 584 (논현동)  \n",
       "3                       서울특별시 강남구 테헤란로 125 (역삼동)  \n",
       "4                     서울특별시 강남구 남부순환로 2947 (대치동)  \n",
       "..                                           ...  \n",
       "558                            서울특별시 중랑구 면목로 310  \n",
       "559                      서울특별시 중랑구 망우로 307 (상봉동)  \n",
       "560  서울특별시 중랑구 동일로 932 (묵동, 묵동자이아파트) (묵동이마트 B1층)  \n",
       "561                           서울특별시 중랑구 동일로 952   \n",
       "562                       서울특별시 중랑구 봉화산로 35 1,2층  \n",
       "\n",
       "[563 rows x 4 columns]"
      ]
     },
     "execution_count": 54,
     "metadata": {},
     "output_type": "execute_result"
    }
   ],
   "source": [
    "columns=['매장명', '위도', '경도', '주소']\n",
    "df = pd.DataFrame(store_list, columns=columns)\n",
    "df"
   ]
  },
  {
   "cell_type": "code",
   "execution_count": null,
   "metadata": {},
   "outputs": [],
   "source": []
  }
 ],
 "metadata": {
  "kernelspec": {
   "display_name": "Python 3",
   "language": "python",
   "name": "python3"
  },
  "language_info": {
   "codemirror_mode": {
    "name": "ipython",
    "version": 3
   },
   "file_extension": ".py",
   "mimetype": "text/x-python",
   "name": "python",
   "nbconvert_exporter": "python",
   "pygments_lexer": "ipython3",
   "version": "3.8.5"
  }
 },
 "nbformat": 4,
 "nbformat_minor": 4
}
