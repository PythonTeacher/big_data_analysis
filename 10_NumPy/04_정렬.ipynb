{
 "cells": [
  {
   "cell_type": "markdown",
   "metadata": {},
   "source": [
    "# 4. 정렬"
   ]
  },
  {
   "cell_type": "markdown",
   "metadata": {
    "colab_type": "text",
    "id": "VGNy7j4vAWGC"
   },
   "source": [
    "## 4-1. 1차원 정렬"
   ]
  },
  {
   "cell_type": "code",
   "execution_count": 1,
   "metadata": {
    "colab": {},
    "colab_type": "code",
    "id": "MHrD2Y3QJq7l"
   },
   "outputs": [],
   "source": [
    "import numpy as np"
   ]
  },
  {
   "cell_type": "code",
   "execution_count": 63,
   "metadata": {
    "colab": {},
    "colab_type": "code",
    "id": "N8srXe3kJ1CI"
   },
   "outputs": [
    {
     "data": {
      "text/plain": [
       "array([3, 3, 7, 2, 4, 7, 2, 1, 2, 1])"
      ]
     },
     "execution_count": 63,
     "metadata": {},
     "output_type": "execute_result"
    }
   ],
   "source": [
    "np.random.seed(123)\n",
    "arr = np.random.randint(1, 10, size=10)  # 1~9\n",
    "arr"
   ]
  },
  {
   "cell_type": "code",
   "execution_count": 64,
   "metadata": {
    "colab": {},
    "colab_type": "code",
    "id": "7KvWPPaPKLep"
   },
   "outputs": [
    {
     "data": {
      "text/plain": [
       "array([1, 1, 2, 2, 2, 3, 3, 4, 7, 7])"
      ]
     },
     "execution_count": 64,
     "metadata": {},
     "output_type": "execute_result"
    }
   ],
   "source": [
    "# 오름차순 정렬\n",
    "np.sort(arr)"
   ]
  },
  {
   "cell_type": "code",
   "execution_count": 65,
   "metadata": {
    "colab": {},
    "colab_type": "code",
    "id": "rAO6KvBXKMMw"
   },
   "outputs": [
    {
     "data": {
      "text/plain": [
       "array([7, 7, 4, 3, 3, 2, 2, 2, 1, 1])"
      ]
     },
     "execution_count": 65,
     "metadata": {},
     "output_type": "execute_result"
    }
   ],
   "source": [
    "# 내림차순 정렬\n",
    "np.sort(arr)[::-1]"
   ]
  },
  {
   "cell_type": "code",
   "execution_count": 66,
   "metadata": {
    "colab": {},
    "colab_type": "code",
    "id": "eiDxXfm9qwqs"
   },
   "outputs": [
    {
     "data": {
      "text/plain": [
       "array([3, 3, 7, 2, 4, 7, 2, 1, 2, 1])"
      ]
     },
     "execution_count": 66,
     "metadata": {},
     "output_type": "execute_result"
    }
   ],
   "source": [
    "# np.sort()를 하면 arr 원본배열을 정렬하지는 않음\n",
    "arr"
   ]
  },
  {
   "cell_type": "code",
   "execution_count": 67,
   "metadata": {
    "colab": {},
    "colab_type": "code",
    "id": "jMN43SI_qyXN"
   },
   "outputs": [
    {
     "data": {
      "text/plain": [
       "array([1, 1, 2, 2, 2, 3, 3, 4, 7, 7])"
      ]
     },
     "execution_count": 67,
     "metadata": {},
     "output_type": "execute_result"
    }
   ],
   "source": [
    "sort_arr = np.sort(arr)\n",
    "sort_arr"
   ]
  },
  {
   "cell_type": "code",
   "execution_count": 68,
   "metadata": {
    "colab": {},
    "colab_type": "code",
    "id": "9K9cV72ZK-Ko"
   },
   "outputs": [],
   "source": [
    "# 배열.sort()를 하면 값이 저장됨 (in-place 메소드)\n",
    "arr.sort()"
   ]
  },
  {
   "cell_type": "code",
   "execution_count": 69,
   "metadata": {
    "colab": {},
    "colab_type": "code",
    "id": "6uMEnTSnK_Mw"
   },
   "outputs": [
    {
     "data": {
      "text/plain": [
       "array([1, 1, 2, 2, 2, 3, 3, 4, 7, 7])"
      ]
     },
     "execution_count": 69,
     "metadata": {},
     "output_type": "execute_result"
    }
   ],
   "source": [
    "arr"
   ]
  },
  {
   "cell_type": "markdown",
   "metadata": {
    "colab_type": "text",
    "id": "baXVQJQxLCww"
   },
   "source": [
    "## 4-2. 2차원 정렬"
   ]
  },
  {
   "cell_type": "code",
   "execution_count": 2,
   "metadata": {
    "colab": {},
    "colab_type": "code",
    "id": "Z065jsH2LGlg"
   },
   "outputs": [
    {
     "data": {
      "text/plain": [
       "array([[3, 3, 7, 2],\n",
       "       [4, 7, 2, 1],\n",
       "       [2, 1, 1, 4]])"
      ]
     },
     "execution_count": 2,
     "metadata": {},
     "output_type": "execute_result"
    }
   ],
   "source": [
    "np.random.seed(123)\n",
    "arr2 = np.random.randint(1, 10, size=(3, 4))\n",
    "arr2"
   ]
  },
  {
   "cell_type": "code",
   "execution_count": 55,
   "metadata": {
    "colab": {},
    "colab_type": "code",
    "id": "tw5Wrw_ZLVkf"
   },
   "outputs": [
    {
     "data": {
      "text/plain": [
       "array([[2, 3, 3, 7],\n",
       "       [1, 2, 4, 7],\n",
       "       [1, 1, 2, 4]])"
      ]
     },
     "execution_count": 55,
     "metadata": {},
     "output_type": "execute_result"
    }
   ],
   "source": [
    "np.sort(arr2) # axis=1과 동일"
   ]
  },
  {
   "cell_type": "code",
   "execution_count": 56,
   "metadata": {},
   "outputs": [
    {
     "data": {
      "text/plain": [
       "array([[2, 1, 1, 1],\n",
       "       [3, 3, 2, 2],\n",
       "       [4, 7, 7, 4]])"
      ]
     },
     "execution_count": 56,
     "metadata": {},
     "output_type": "execute_result"
    }
   ],
   "source": [
    "# 열 정렬\n",
    "np.sort(arr2, axis=0)"
   ]
  },
  {
   "cell_type": "code",
   "execution_count": 57,
   "metadata": {
    "colab": {},
    "colab_type": "code",
    "id": "50fUgOYtLYbg"
   },
   "outputs": [
    {
     "data": {
      "text/plain": [
       "array([[2, 3, 3, 7],\n",
       "       [1, 2, 4, 7],\n",
       "       [1, 1, 2, 4]])"
      ]
     },
     "execution_count": 57,
     "metadata": {},
     "output_type": "execute_result"
    }
   ],
   "source": [
    "# 행 정렬\n",
    "np.sort(arr2, axis=1)"
   ]
  },
  {
   "cell_type": "code",
   "execution_count": 58,
   "metadata": {
    "colab": {},
    "colab_type": "code",
    "id": "KMIrKnTNMSeP"
   },
   "outputs": [
    {
     "data": {
      "text/plain": [
       "array([[3, 3, 7, 2],\n",
       "       [4, 7, 2, 1],\n",
       "       [2, 1, 1, 4]])"
      ]
     },
     "execution_count": 58,
     "metadata": {},
     "output_type": "execute_result"
    }
   ],
   "source": [
    "arr2"
   ]
  },
  {
   "cell_type": "code",
   "execution_count": 4,
   "metadata": {
    "colab": {
     "base_uri": "https://localhost:8080/",
     "height": 70
    },
    "colab_type": "code",
    "id": "a0iDxGE3MFfF",
    "outputId": "c56ea2be-b6bb-4d1a-af68-205203121fee"
   },
   "outputs": [
    {
     "data": {
      "text/plain": [
       "array([[3, 0, 1, 2],\n",
       "       [3, 2, 0, 1],\n",
       "       [1, 2, 0, 3]], dtype=int64)"
      ]
     },
     "execution_count": 4,
     "metadata": {},
     "output_type": "execute_result"
    }
   ],
   "source": [
    "# index를 반환하는 argsort\n",
    "np.argsort(arr2)  # axis=1과 동일"
   ]
  },
  {
   "cell_type": "code",
   "execution_count": 5,
   "metadata": {
    "colab": {
     "base_uri": "https://localhost:8080/",
     "height": 70
    },
    "colab_type": "code",
    "id": "PzfQlskGMkxG",
    "outputId": "58fef873-b65f-4eff-d550-12a78b105a8c"
   },
   "outputs": [
    {
     "data": {
      "text/plain": [
       "array([[2, 2, 2, 1],\n",
       "       [0, 0, 1, 0],\n",
       "       [1, 1, 0, 2]], dtype=int64)"
      ]
     },
     "execution_count": 5,
     "metadata": {},
     "output_type": "execute_result"
    }
   ],
   "source": [
    "np.argsort(arr2, axis=0)"
   ]
  },
  {
   "cell_type": "code",
   "execution_count": null,
   "metadata": {},
   "outputs": [],
   "source": []
  }
 ],
 "metadata": {
  "colab": {
   "collapsed_sections": [],
   "name": "ch03-part04-sort(정렬)-해설",
   "provenance": []
  },
  "kernelspec": {
   "display_name": "Python 3",
   "language": "python",
   "name": "python3"
  },
  "language_info": {
   "codemirror_mode": {
    "name": "ipython",
    "version": 3
   },
   "file_extension": ".py",
   "mimetype": "text/x-python",
   "name": "python",
   "nbconvert_exporter": "python",
   "pygments_lexer": "ipython3",
   "version": "3.8.5"
  }
 },
 "nbformat": 4,
 "nbformat_minor": 4
}
