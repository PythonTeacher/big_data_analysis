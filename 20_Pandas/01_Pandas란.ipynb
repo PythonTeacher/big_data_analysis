{
 "cells": [
  {
   "cell_type": "markdown",
   "metadata": {},
   "source": [
    "# 1. Pandas란?\n",
    "\n",
    "* Pandas는 파이썬을 활용한 데이터분석에서 가장 많이 활용되는 라이브러리임\n",
    "* numpy를 기반으로 만들어졌으며 데이터분석을 위한 효율적인 데이터 구조를 제공함\n",
    "* 1차원 배열 형태 : Series, 2차원 배열 형태 : DataFrame (엑셀과 유사)\n",
    "* https://pandas.pydata.org\n",
    "* https://github.com/pandas-dev/pandas\n",
    "* Pandas Cheat Sheet 참고"
   ]
  },
  {
   "cell_type": "code",
   "execution_count": 2,
   "metadata": {},
   "outputs": [],
   "source": [
    "# Pandas import\n",
    "import pandas as pd"
   ]
  },
  {
   "cell_type": "code",
   "execution_count": 3,
   "metadata": {},
   "outputs": [
    {
     "data": {
      "text/plain": [
       "'1.1.3'"
      ]
     },
     "execution_count": 3,
     "metadata": {},
     "output_type": "execute_result"
    }
   ],
   "source": [
    "pd.__version__"
   ]
  },
  {
   "cell_type": "code",
   "execution_count": null,
   "metadata": {},
   "outputs": [],
   "source": []
  }
 ],
 "metadata": {
  "kernelspec": {
   "display_name": "Python 3",
   "language": "python",
   "name": "python3"
  },
  "language_info": {
   "codemirror_mode": {
    "name": "ipython",
    "version": 3
   },
   "file_extension": ".py",
   "mimetype": "text/x-python",
   "name": "python",
   "nbconvert_exporter": "python",
   "pygments_lexer": "ipython3",
   "version": "3.8.5"
  }
 },
 "nbformat": 4,
 "nbformat_minor": 4
}
