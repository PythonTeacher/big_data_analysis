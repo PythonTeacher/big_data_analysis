{
 "cells": [
  {
   "cell_type": "markdown",
   "metadata": {},
   "source": [
    "# 3. 다중 회귀 분석 (Multiple Regression)\n",
    "* 규제(Regularization) : 머신러닝 모델리 훈련 세트를 과도하게 학습하지 못하도록 막는 것\n",
    "* 선형회귀 모델의 경우 특성에 곱해지는 계수(기울기)의 크기를 작게 만드는 일"
   ]
  },
  {
   "cell_type": "markdown",
   "metadata": {},
   "source": [
    "## 2-1. 농어 길이와 높이에 따른 무게 예측"
   ]
  },
  {
   "cell_type": "markdown",
   "metadata": {},
   "source": [
    "### 1) 문제 정의\n",
    "농어 길이(Length), 높이(Height), 두께(Width)에 따른 무게(Weight) 예측하기"
   ]
  },
  {
   "cell_type": "markdown",
   "metadata": {},
   "source": [
    "### 2) 데이터 수집\n",
    "* https://www.kaggle.com/aungpyaeap/fish-market"
   ]
  },
  {
   "cell_type": "code",
   "execution_count": 1,
   "metadata": {},
   "outputs": [
    {
     "data": {
      "text/html": [
       "<div>\n",
       "<style scoped>\n",
       "    .dataframe tbody tr th:only-of-type {\n",
       "        vertical-align: middle;\n",
       "    }\n",
       "\n",
       "    .dataframe tbody tr th {\n",
       "        vertical-align: top;\n",
       "    }\n",
       "\n",
       "    .dataframe thead th {\n",
       "        text-align: right;\n",
       "    }\n",
       "</style>\n",
       "<table border=\"1\" class=\"dataframe\">\n",
       "  <thead>\n",
       "    <tr style=\"text-align: right;\">\n",
       "      <th></th>\n",
       "      <th>Species</th>\n",
       "      <th>Weight</th>\n",
       "      <th>Vertical_Length</th>\n",
       "      <th>Diagonal_Length</th>\n",
       "      <th>Cross_Length</th>\n",
       "      <th>Height</th>\n",
       "      <th>Width</th>\n",
       "    </tr>\n",
       "  </thead>\n",
       "  <tbody>\n",
       "    <tr>\n",
       "      <th>0</th>\n",
       "      <td>Bream</td>\n",
       "      <td>242.0</td>\n",
       "      <td>23.2</td>\n",
       "      <td>25.4</td>\n",
       "      <td>30.0</td>\n",
       "      <td>11.5200</td>\n",
       "      <td>4.0200</td>\n",
       "    </tr>\n",
       "    <tr>\n",
       "      <th>1</th>\n",
       "      <td>Bream</td>\n",
       "      <td>290.0</td>\n",
       "      <td>24.0</td>\n",
       "      <td>26.3</td>\n",
       "      <td>31.2</td>\n",
       "      <td>12.4800</td>\n",
       "      <td>4.3056</td>\n",
       "    </tr>\n",
       "    <tr>\n",
       "      <th>2</th>\n",
       "      <td>Bream</td>\n",
       "      <td>340.0</td>\n",
       "      <td>23.9</td>\n",
       "      <td>26.5</td>\n",
       "      <td>31.1</td>\n",
       "      <td>12.3778</td>\n",
       "      <td>4.6961</td>\n",
       "    </tr>\n",
       "    <tr>\n",
       "      <th>3</th>\n",
       "      <td>Bream</td>\n",
       "      <td>363.0</td>\n",
       "      <td>26.3</td>\n",
       "      <td>29.0</td>\n",
       "      <td>33.5</td>\n",
       "      <td>12.7300</td>\n",
       "      <td>4.4555</td>\n",
       "    </tr>\n",
       "    <tr>\n",
       "      <th>4</th>\n",
       "      <td>Bream</td>\n",
       "      <td>430.0</td>\n",
       "      <td>26.5</td>\n",
       "      <td>29.0</td>\n",
       "      <td>34.0</td>\n",
       "      <td>12.4440</td>\n",
       "      <td>5.1340</td>\n",
       "    </tr>\n",
       "    <tr>\n",
       "      <th>...</th>\n",
       "      <td>...</td>\n",
       "      <td>...</td>\n",
       "      <td>...</td>\n",
       "      <td>...</td>\n",
       "      <td>...</td>\n",
       "      <td>...</td>\n",
       "      <td>...</td>\n",
       "    </tr>\n",
       "    <tr>\n",
       "      <th>154</th>\n",
       "      <td>Smelt</td>\n",
       "      <td>12.2</td>\n",
       "      <td>11.5</td>\n",
       "      <td>12.2</td>\n",
       "      <td>13.4</td>\n",
       "      <td>2.0904</td>\n",
       "      <td>1.3936</td>\n",
       "    </tr>\n",
       "    <tr>\n",
       "      <th>155</th>\n",
       "      <td>Smelt</td>\n",
       "      <td>13.4</td>\n",
       "      <td>11.7</td>\n",
       "      <td>12.4</td>\n",
       "      <td>13.5</td>\n",
       "      <td>2.4300</td>\n",
       "      <td>1.2690</td>\n",
       "    </tr>\n",
       "    <tr>\n",
       "      <th>156</th>\n",
       "      <td>Smelt</td>\n",
       "      <td>12.2</td>\n",
       "      <td>12.1</td>\n",
       "      <td>13.0</td>\n",
       "      <td>13.8</td>\n",
       "      <td>2.2770</td>\n",
       "      <td>1.2558</td>\n",
       "    </tr>\n",
       "    <tr>\n",
       "      <th>157</th>\n",
       "      <td>Smelt</td>\n",
       "      <td>19.7</td>\n",
       "      <td>13.2</td>\n",
       "      <td>14.3</td>\n",
       "      <td>15.2</td>\n",
       "      <td>2.8728</td>\n",
       "      <td>2.0672</td>\n",
       "    </tr>\n",
       "    <tr>\n",
       "      <th>158</th>\n",
       "      <td>Smelt</td>\n",
       "      <td>19.9</td>\n",
       "      <td>13.8</td>\n",
       "      <td>15.0</td>\n",
       "      <td>16.2</td>\n",
       "      <td>2.9322</td>\n",
       "      <td>1.8792</td>\n",
       "    </tr>\n",
       "  </tbody>\n",
       "</table>\n",
       "<p>159 rows × 7 columns</p>\n",
       "</div>"
      ],
      "text/plain": [
       "    Species  Weight  Vertical_Length  Diagonal_Length  Cross_Length   Height  \\\n",
       "0     Bream   242.0             23.2             25.4          30.0  11.5200   \n",
       "1     Bream   290.0             24.0             26.3          31.2  12.4800   \n",
       "2     Bream   340.0             23.9             26.5          31.1  12.3778   \n",
       "3     Bream   363.0             26.3             29.0          33.5  12.7300   \n",
       "4     Bream   430.0             26.5             29.0          34.0  12.4440   \n",
       "..      ...     ...              ...              ...           ...      ...   \n",
       "154   Smelt    12.2             11.5             12.2          13.4   2.0904   \n",
       "155   Smelt    13.4             11.7             12.4          13.5   2.4300   \n",
       "156   Smelt    12.2             12.1             13.0          13.8   2.2770   \n",
       "157   Smelt    19.7             13.2             14.3          15.2   2.8728   \n",
       "158   Smelt    19.9             13.8             15.0          16.2   2.9322   \n",
       "\n",
       "      Width  \n",
       "0    4.0200  \n",
       "1    4.3056  \n",
       "2    4.6961  \n",
       "3    4.4555  \n",
       "4    5.1340  \n",
       "..      ...  \n",
       "154  1.3936  \n",
       "155  1.2690  \n",
       "156  1.2558  \n",
       "157  2.0672  \n",
       "158  1.8792  \n",
       "\n",
       "[159 rows x 7 columns]"
      ]
     },
     "execution_count": 1,
     "metadata": {},
     "output_type": "execute_result"
    }
   ],
   "source": [
    "import numpy as np\n",
    "import pandas as pd\n",
    "import matplotlib.pyplot as plt\n",
    "import seaborn as sns\n",
    "\n",
    "ori_data = pd.read_csv('data/02_fish/fish.csv')\n",
    "ori_data"
   ]
  },
  {
   "cell_type": "code",
   "execution_count": 2,
   "metadata": {},
   "outputs": [
    {
     "data": {
      "text/html": [
       "<div>\n",
       "<style scoped>\n",
       "    .dataframe tbody tr th:only-of-type {\n",
       "        vertical-align: middle;\n",
       "    }\n",
       "\n",
       "    .dataframe tbody tr th {\n",
       "        vertical-align: top;\n",
       "    }\n",
       "\n",
       "    .dataframe thead th {\n",
       "        text-align: right;\n",
       "    }\n",
       "</style>\n",
       "<table border=\"1\" class=\"dataframe\">\n",
       "  <thead>\n",
       "    <tr style=\"text-align: right;\">\n",
       "      <th></th>\n",
       "      <th>Length</th>\n",
       "      <th>Height</th>\n",
       "      <th>Width</th>\n",
       "      <th>Weight</th>\n",
       "    </tr>\n",
       "  </thead>\n",
       "  <tbody>\n",
       "    <tr>\n",
       "      <th>72</th>\n",
       "      <td>8.4</td>\n",
       "      <td>2.1120</td>\n",
       "      <td>1.4080</td>\n",
       "      <td>5.9</td>\n",
       "    </tr>\n",
       "    <tr>\n",
       "      <th>73</th>\n",
       "      <td>13.7</td>\n",
       "      <td>3.5280</td>\n",
       "      <td>1.9992</td>\n",
       "      <td>32.0</td>\n",
       "    </tr>\n",
       "    <tr>\n",
       "      <th>74</th>\n",
       "      <td>15.0</td>\n",
       "      <td>3.8240</td>\n",
       "      <td>2.4320</td>\n",
       "      <td>40.0</td>\n",
       "    </tr>\n",
       "    <tr>\n",
       "      <th>75</th>\n",
       "      <td>16.2</td>\n",
       "      <td>4.5924</td>\n",
       "      <td>2.6316</td>\n",
       "      <td>51.5</td>\n",
       "    </tr>\n",
       "    <tr>\n",
       "      <th>76</th>\n",
       "      <td>17.4</td>\n",
       "      <td>4.5880</td>\n",
       "      <td>2.9415</td>\n",
       "      <td>70.0</td>\n",
       "    </tr>\n",
       "    <tr>\n",
       "      <th>77</th>\n",
       "      <td>18.0</td>\n",
       "      <td>5.2224</td>\n",
       "      <td>3.3216</td>\n",
       "      <td>100.0</td>\n",
       "    </tr>\n",
       "    <tr>\n",
       "      <th>78</th>\n",
       "      <td>18.7</td>\n",
       "      <td>5.1992</td>\n",
       "      <td>3.1234</td>\n",
       "      <td>78.0</td>\n",
       "    </tr>\n",
       "    <tr>\n",
       "      <th>79</th>\n",
       "      <td>19.0</td>\n",
       "      <td>5.6358</td>\n",
       "      <td>3.0502</td>\n",
       "      <td>80.0</td>\n",
       "    </tr>\n",
       "    <tr>\n",
       "      <th>80</th>\n",
       "      <td>19.6</td>\n",
       "      <td>5.1376</td>\n",
       "      <td>3.0368</td>\n",
       "      <td>85.0</td>\n",
       "    </tr>\n",
       "    <tr>\n",
       "      <th>81</th>\n",
       "      <td>20.0</td>\n",
       "      <td>5.0820</td>\n",
       "      <td>2.7720</td>\n",
       "      <td>85.0</td>\n",
       "    </tr>\n",
       "    <tr>\n",
       "      <th>82</th>\n",
       "      <td>21.0</td>\n",
       "      <td>5.6925</td>\n",
       "      <td>3.5550</td>\n",
       "      <td>110.0</td>\n",
       "    </tr>\n",
       "    <tr>\n",
       "      <th>83</th>\n",
       "      <td>21.0</td>\n",
       "      <td>5.9175</td>\n",
       "      <td>3.3075</td>\n",
       "      <td>115.0</td>\n",
       "    </tr>\n",
       "    <tr>\n",
       "      <th>84</th>\n",
       "      <td>21.0</td>\n",
       "      <td>5.6925</td>\n",
       "      <td>3.6675</td>\n",
       "      <td>125.0</td>\n",
       "    </tr>\n",
       "    <tr>\n",
       "      <th>85</th>\n",
       "      <td>21.3</td>\n",
       "      <td>6.3840</td>\n",
       "      <td>3.5340</td>\n",
       "      <td>130.0</td>\n",
       "    </tr>\n",
       "    <tr>\n",
       "      <th>86</th>\n",
       "      <td>22.0</td>\n",
       "      <td>6.1100</td>\n",
       "      <td>3.4075</td>\n",
       "      <td>120.0</td>\n",
       "    </tr>\n",
       "    <tr>\n",
       "      <th>87</th>\n",
       "      <td>22.0</td>\n",
       "      <td>5.6400</td>\n",
       "      <td>3.5250</td>\n",
       "      <td>120.0</td>\n",
       "    </tr>\n",
       "    <tr>\n",
       "      <th>88</th>\n",
       "      <td>22.0</td>\n",
       "      <td>6.1100</td>\n",
       "      <td>3.5250</td>\n",
       "      <td>130.0</td>\n",
       "    </tr>\n",
       "    <tr>\n",
       "      <th>89</th>\n",
       "      <td>22.0</td>\n",
       "      <td>5.8750</td>\n",
       "      <td>3.5250</td>\n",
       "      <td>135.0</td>\n",
       "    </tr>\n",
       "    <tr>\n",
       "      <th>90</th>\n",
       "      <td>22.0</td>\n",
       "      <td>5.5225</td>\n",
       "      <td>3.9950</td>\n",
       "      <td>110.0</td>\n",
       "    </tr>\n",
       "    <tr>\n",
       "      <th>91</th>\n",
       "      <td>22.5</td>\n",
       "      <td>5.8560</td>\n",
       "      <td>3.6240</td>\n",
       "      <td>130.0</td>\n",
       "    </tr>\n",
       "    <tr>\n",
       "      <th>92</th>\n",
       "      <td>22.5</td>\n",
       "      <td>6.7920</td>\n",
       "      <td>3.6240</td>\n",
       "      <td>150.0</td>\n",
       "    </tr>\n",
       "    <tr>\n",
       "      <th>93</th>\n",
       "      <td>22.7</td>\n",
       "      <td>5.9532</td>\n",
       "      <td>3.6300</td>\n",
       "      <td>145.0</td>\n",
       "    </tr>\n",
       "    <tr>\n",
       "      <th>94</th>\n",
       "      <td>23.0</td>\n",
       "      <td>5.2185</td>\n",
       "      <td>3.6260</td>\n",
       "      <td>150.0</td>\n",
       "    </tr>\n",
       "    <tr>\n",
       "      <th>95</th>\n",
       "      <td>23.5</td>\n",
       "      <td>6.2750</td>\n",
       "      <td>3.7250</td>\n",
       "      <td>170.0</td>\n",
       "    </tr>\n",
       "    <tr>\n",
       "      <th>96</th>\n",
       "      <td>24.0</td>\n",
       "      <td>7.2930</td>\n",
       "      <td>3.7230</td>\n",
       "      <td>225.0</td>\n",
       "    </tr>\n",
       "    <tr>\n",
       "      <th>97</th>\n",
       "      <td>24.0</td>\n",
       "      <td>6.3750</td>\n",
       "      <td>3.8250</td>\n",
       "      <td>145.0</td>\n",
       "    </tr>\n",
       "    <tr>\n",
       "      <th>98</th>\n",
       "      <td>24.6</td>\n",
       "      <td>6.7334</td>\n",
       "      <td>4.1658</td>\n",
       "      <td>188.0</td>\n",
       "    </tr>\n",
       "    <tr>\n",
       "      <th>99</th>\n",
       "      <td>25.0</td>\n",
       "      <td>6.4395</td>\n",
       "      <td>3.6835</td>\n",
       "      <td>180.0</td>\n",
       "    </tr>\n",
       "    <tr>\n",
       "      <th>100</th>\n",
       "      <td>25.6</td>\n",
       "      <td>6.5610</td>\n",
       "      <td>4.2390</td>\n",
       "      <td>197.0</td>\n",
       "    </tr>\n",
       "    <tr>\n",
       "      <th>101</th>\n",
       "      <td>26.5</td>\n",
       "      <td>7.1680</td>\n",
       "      <td>4.1440</td>\n",
       "      <td>218.0</td>\n",
       "    </tr>\n",
       "    <tr>\n",
       "      <th>102</th>\n",
       "      <td>27.3</td>\n",
       "      <td>8.3230</td>\n",
       "      <td>5.1373</td>\n",
       "      <td>300.0</td>\n",
       "    </tr>\n",
       "    <tr>\n",
       "      <th>103</th>\n",
       "      <td>27.5</td>\n",
       "      <td>7.1672</td>\n",
       "      <td>4.3350</td>\n",
       "      <td>260.0</td>\n",
       "    </tr>\n",
       "    <tr>\n",
       "      <th>104</th>\n",
       "      <td>27.5</td>\n",
       "      <td>7.0516</td>\n",
       "      <td>4.3350</td>\n",
       "      <td>265.0</td>\n",
       "    </tr>\n",
       "    <tr>\n",
       "      <th>105</th>\n",
       "      <td>27.5</td>\n",
       "      <td>7.2828</td>\n",
       "      <td>4.5662</td>\n",
       "      <td>250.0</td>\n",
       "    </tr>\n",
       "    <tr>\n",
       "      <th>106</th>\n",
       "      <td>28.0</td>\n",
       "      <td>7.8204</td>\n",
       "      <td>4.2042</td>\n",
       "      <td>250.0</td>\n",
       "    </tr>\n",
       "    <tr>\n",
       "      <th>107</th>\n",
       "      <td>28.7</td>\n",
       "      <td>7.5852</td>\n",
       "      <td>4.6354</td>\n",
       "      <td>300.0</td>\n",
       "    </tr>\n",
       "    <tr>\n",
       "      <th>108</th>\n",
       "      <td>30.0</td>\n",
       "      <td>7.6156</td>\n",
       "      <td>4.7716</td>\n",
       "      <td>320.0</td>\n",
       "    </tr>\n",
       "    <tr>\n",
       "      <th>109</th>\n",
       "      <td>32.8</td>\n",
       "      <td>10.0300</td>\n",
       "      <td>6.0180</td>\n",
       "      <td>514.0</td>\n",
       "    </tr>\n",
       "    <tr>\n",
       "      <th>110</th>\n",
       "      <td>34.5</td>\n",
       "      <td>10.2565</td>\n",
       "      <td>6.3875</td>\n",
       "      <td>556.0</td>\n",
       "    </tr>\n",
       "    <tr>\n",
       "      <th>111</th>\n",
       "      <td>35.0</td>\n",
       "      <td>11.4884</td>\n",
       "      <td>7.7957</td>\n",
       "      <td>840.0</td>\n",
       "    </tr>\n",
       "    <tr>\n",
       "      <th>112</th>\n",
       "      <td>36.5</td>\n",
       "      <td>10.8810</td>\n",
       "      <td>6.8640</td>\n",
       "      <td>685.0</td>\n",
       "    </tr>\n",
       "    <tr>\n",
       "      <th>113</th>\n",
       "      <td>36.0</td>\n",
       "      <td>10.6091</td>\n",
       "      <td>6.7408</td>\n",
       "      <td>700.0</td>\n",
       "    </tr>\n",
       "    <tr>\n",
       "      <th>114</th>\n",
       "      <td>37.0</td>\n",
       "      <td>10.8350</td>\n",
       "      <td>6.2646</td>\n",
       "      <td>700.0</td>\n",
       "    </tr>\n",
       "    <tr>\n",
       "      <th>115</th>\n",
       "      <td>37.0</td>\n",
       "      <td>10.5717</td>\n",
       "      <td>6.3666</td>\n",
       "      <td>690.0</td>\n",
       "    </tr>\n",
       "    <tr>\n",
       "      <th>116</th>\n",
       "      <td>39.0</td>\n",
       "      <td>11.1366</td>\n",
       "      <td>7.4934</td>\n",
       "      <td>900.0</td>\n",
       "    </tr>\n",
       "    <tr>\n",
       "      <th>117</th>\n",
       "      <td>39.0</td>\n",
       "      <td>11.1366</td>\n",
       "      <td>6.0030</td>\n",
       "      <td>650.0</td>\n",
       "    </tr>\n",
       "    <tr>\n",
       "      <th>118</th>\n",
       "      <td>39.0</td>\n",
       "      <td>12.4313</td>\n",
       "      <td>7.3514</td>\n",
       "      <td>820.0</td>\n",
       "    </tr>\n",
       "    <tr>\n",
       "      <th>119</th>\n",
       "      <td>40.0</td>\n",
       "      <td>11.9286</td>\n",
       "      <td>7.1064</td>\n",
       "      <td>850.0</td>\n",
       "    </tr>\n",
       "    <tr>\n",
       "      <th>120</th>\n",
       "      <td>40.0</td>\n",
       "      <td>11.7300</td>\n",
       "      <td>7.2250</td>\n",
       "      <td>900.0</td>\n",
       "    </tr>\n",
       "    <tr>\n",
       "      <th>121</th>\n",
       "      <td>40.0</td>\n",
       "      <td>12.3808</td>\n",
       "      <td>7.4624</td>\n",
       "      <td>1015.0</td>\n",
       "    </tr>\n",
       "    <tr>\n",
       "      <th>122</th>\n",
       "      <td>40.0</td>\n",
       "      <td>11.1350</td>\n",
       "      <td>6.6300</td>\n",
       "      <td>820.0</td>\n",
       "    </tr>\n",
       "    <tr>\n",
       "      <th>123</th>\n",
       "      <td>42.0</td>\n",
       "      <td>12.8002</td>\n",
       "      <td>6.8684</td>\n",
       "      <td>1100.0</td>\n",
       "    </tr>\n",
       "    <tr>\n",
       "      <th>124</th>\n",
       "      <td>43.0</td>\n",
       "      <td>11.9328</td>\n",
       "      <td>7.2772</td>\n",
       "      <td>1000.0</td>\n",
       "    </tr>\n",
       "    <tr>\n",
       "      <th>125</th>\n",
       "      <td>43.0</td>\n",
       "      <td>12.5125</td>\n",
       "      <td>7.4165</td>\n",
       "      <td>1100.0</td>\n",
       "    </tr>\n",
       "    <tr>\n",
       "      <th>126</th>\n",
       "      <td>43.5</td>\n",
       "      <td>12.6040</td>\n",
       "      <td>8.1420</td>\n",
       "      <td>1000.0</td>\n",
       "    </tr>\n",
       "    <tr>\n",
       "      <th>127</th>\n",
       "      <td>44.0</td>\n",
       "      <td>12.4888</td>\n",
       "      <td>7.5958</td>\n",
       "      <td>1000.0</td>\n",
       "    </tr>\n",
       "  </tbody>\n",
       "</table>\n",
       "</div>"
      ],
      "text/plain": [
       "     Length   Height   Width  Weight\n",
       "72      8.4   2.1120  1.4080     5.9\n",
       "73     13.7   3.5280  1.9992    32.0\n",
       "74     15.0   3.8240  2.4320    40.0\n",
       "75     16.2   4.5924  2.6316    51.5\n",
       "76     17.4   4.5880  2.9415    70.0\n",
       "77     18.0   5.2224  3.3216   100.0\n",
       "78     18.7   5.1992  3.1234    78.0\n",
       "79     19.0   5.6358  3.0502    80.0\n",
       "80     19.6   5.1376  3.0368    85.0\n",
       "81     20.0   5.0820  2.7720    85.0\n",
       "82     21.0   5.6925  3.5550   110.0\n",
       "83     21.0   5.9175  3.3075   115.0\n",
       "84     21.0   5.6925  3.6675   125.0\n",
       "85     21.3   6.3840  3.5340   130.0\n",
       "86     22.0   6.1100  3.4075   120.0\n",
       "87     22.0   5.6400  3.5250   120.0\n",
       "88     22.0   6.1100  3.5250   130.0\n",
       "89     22.0   5.8750  3.5250   135.0\n",
       "90     22.0   5.5225  3.9950   110.0\n",
       "91     22.5   5.8560  3.6240   130.0\n",
       "92     22.5   6.7920  3.6240   150.0\n",
       "93     22.7   5.9532  3.6300   145.0\n",
       "94     23.0   5.2185  3.6260   150.0\n",
       "95     23.5   6.2750  3.7250   170.0\n",
       "96     24.0   7.2930  3.7230   225.0\n",
       "97     24.0   6.3750  3.8250   145.0\n",
       "98     24.6   6.7334  4.1658   188.0\n",
       "99     25.0   6.4395  3.6835   180.0\n",
       "100    25.6   6.5610  4.2390   197.0\n",
       "101    26.5   7.1680  4.1440   218.0\n",
       "102    27.3   8.3230  5.1373   300.0\n",
       "103    27.5   7.1672  4.3350   260.0\n",
       "104    27.5   7.0516  4.3350   265.0\n",
       "105    27.5   7.2828  4.5662   250.0\n",
       "106    28.0   7.8204  4.2042   250.0\n",
       "107    28.7   7.5852  4.6354   300.0\n",
       "108    30.0   7.6156  4.7716   320.0\n",
       "109    32.8  10.0300  6.0180   514.0\n",
       "110    34.5  10.2565  6.3875   556.0\n",
       "111    35.0  11.4884  7.7957   840.0\n",
       "112    36.5  10.8810  6.8640   685.0\n",
       "113    36.0  10.6091  6.7408   700.0\n",
       "114    37.0  10.8350  6.2646   700.0\n",
       "115    37.0  10.5717  6.3666   690.0\n",
       "116    39.0  11.1366  7.4934   900.0\n",
       "117    39.0  11.1366  6.0030   650.0\n",
       "118    39.0  12.4313  7.3514   820.0\n",
       "119    40.0  11.9286  7.1064   850.0\n",
       "120    40.0  11.7300  7.2250   900.0\n",
       "121    40.0  12.3808  7.4624  1015.0\n",
       "122    40.0  11.1350  6.6300   820.0\n",
       "123    42.0  12.8002  6.8684  1100.0\n",
       "124    43.0  11.9328  7.2772  1000.0\n",
       "125    43.0  12.5125  7.4165  1100.0\n",
       "126    43.5  12.6040  8.1420  1000.0\n",
       "127    44.0  12.4888  7.5958  1000.0"
      ]
     },
     "execution_count": 2,
     "metadata": {},
     "output_type": "execute_result"
    }
   ],
   "source": [
    "data = ori_data[ori_data.Species=='Perch'][['Length2', 'Height', 'Width', 'Weight']]\n",
    "data.columns = ['Length', 'Height', 'Width', 'Weight']\n",
    "data"
   ]
  },
  {
   "cell_type": "markdown",
   "metadata": {},
   "source": [
    "### 3) 데이터 전처리\n",
    "* 결측치 처리"
   ]
  },
  {
   "cell_type": "code",
   "execution_count": 3,
   "metadata": {},
   "outputs": [
    {
     "data": {
      "text/plain": [
       "(56, 4)"
      ]
     },
     "execution_count": 3,
     "metadata": {},
     "output_type": "execute_result"
    }
   ],
   "source": [
    "data.shape"
   ]
  },
  {
   "cell_type": "code",
   "execution_count": 4,
   "metadata": {},
   "outputs": [
    {
     "name": "stdout",
     "output_type": "stream",
     "text": [
      "<class 'pandas.core.frame.DataFrame'>\n",
      "Int64Index: 56 entries, 72 to 127\n",
      "Data columns (total 4 columns):\n",
      " #   Column  Non-Null Count  Dtype  \n",
      "---  ------  --------------  -----  \n",
      " 0   Length  56 non-null     float64\n",
      " 1   Height  56 non-null     float64\n",
      " 2   Width   56 non-null     float64\n",
      " 3   Weight  56 non-null     float64\n",
      "dtypes: float64(4)\n",
      "memory usage: 2.2 KB\n"
     ]
    }
   ],
   "source": [
    "data.info()"
   ]
  },
  {
   "cell_type": "code",
   "execution_count": 5,
   "metadata": {},
   "outputs": [
    {
     "data": {
      "text/plain": [
       "Length    0\n",
       "Height    0\n",
       "Width     0\n",
       "Weight    0\n",
       "dtype: int64"
      ]
     },
     "execution_count": 5,
     "metadata": {},
     "output_type": "execute_result"
    }
   ],
   "source": [
    "data.isnull().sum()"
   ]
  },
  {
   "cell_type": "markdown",
   "metadata": {},
   "source": [
    "### 4) 데이터 탐색\n",
    "* 상관관계\n",
    "* 산점도(Scatter Plot) -> 생략"
   ]
  },
  {
   "cell_type": "code",
   "execution_count": 6,
   "metadata": {},
   "outputs": [
    {
     "data": {
      "text/html": [
       "<div>\n",
       "<style scoped>\n",
       "    .dataframe tbody tr th:only-of-type {\n",
       "        vertical-align: middle;\n",
       "    }\n",
       "\n",
       "    .dataframe tbody tr th {\n",
       "        vertical-align: top;\n",
       "    }\n",
       "\n",
       "    .dataframe thead th {\n",
       "        text-align: right;\n",
       "    }\n",
       "</style>\n",
       "<table border=\"1\" class=\"dataframe\">\n",
       "  <thead>\n",
       "    <tr style=\"text-align: right;\">\n",
       "      <th></th>\n",
       "      <th>Length</th>\n",
       "      <th>Height</th>\n",
       "      <th>Width</th>\n",
       "      <th>Weight</th>\n",
       "    </tr>\n",
       "  </thead>\n",
       "  <tbody>\n",
       "    <tr>\n",
       "      <th>Length</th>\n",
       "      <td>1.000000</td>\n",
       "      <td>0.985584</td>\n",
       "      <td>0.974617</td>\n",
       "      <td>0.958656</td>\n",
       "    </tr>\n",
       "    <tr>\n",
       "      <th>Height</th>\n",
       "      <td>0.985584</td>\n",
       "      <td>1.000000</td>\n",
       "      <td>0.982943</td>\n",
       "      <td>0.968441</td>\n",
       "    </tr>\n",
       "    <tr>\n",
       "      <th>Width</th>\n",
       "      <td>0.974617</td>\n",
       "      <td>0.982943</td>\n",
       "      <td>1.000000</td>\n",
       "      <td>0.963943</td>\n",
       "    </tr>\n",
       "    <tr>\n",
       "      <th>Weight</th>\n",
       "      <td>0.958656</td>\n",
       "      <td>0.968441</td>\n",
       "      <td>0.963943</td>\n",
       "      <td>1.000000</td>\n",
       "    </tr>\n",
       "  </tbody>\n",
       "</table>\n",
       "</div>"
      ],
      "text/plain": [
       "          Length    Height     Width    Weight\n",
       "Length  1.000000  0.985584  0.974617  0.958656\n",
       "Height  0.985584  1.000000  0.982943  0.968441\n",
       "Width   0.974617  0.982943  1.000000  0.963943\n",
       "Weight  0.958656  0.968441  0.963943  1.000000"
      ]
     },
     "execution_count": 6,
     "metadata": {},
     "output_type": "execute_result"
    }
   ],
   "source": [
    "data.corr()"
   ]
  },
  {
   "cell_type": "markdown",
   "metadata": {},
   "source": [
    "### 5) 모델 학습\n",
    "* 데이터 쪼개기\n",
    "* 변환기 적용하기\n",
    "* 다중회귀 학습\n",
    "* 다중회귀 예측"
   ]
  },
  {
   "cell_type": "code",
   "execution_count": 59,
   "metadata": {},
   "outputs": [],
   "source": [
    "from sklearn.model_selection import train_test_split\n",
    "from sklearn.linear_model import Ridge, Lasso\n",
    "from sklearn.preprocessing import PolynomialFeatures, StandardScaler  # 변환기"
   ]
  },
  {
   "cell_type": "code",
   "execution_count": 8,
   "metadata": {},
   "outputs": [
    {
     "data": {
      "text/plain": [
       "((56, 3), (56,))"
      ]
     },
     "execution_count": 8,
     "metadata": {},
     "output_type": "execute_result"
    }
   ],
   "source": [
    "# 독립변수 : Length, Height, Width\n",
    "# 종속변수 : Weight\n",
    "input_data = data[['Length', 'Height', 'Width']].to_numpy()\n",
    "target_data = data['Weight'].to_numpy()\n",
    "input_data.shape, target_data.shape"
   ]
  },
  {
   "cell_type": "code",
   "execution_count": 38,
   "metadata": {},
   "outputs": [
    {
     "data": {
      "text/plain": [
       "((42, 3), (14, 3), (42,), (14,))"
      ]
     },
     "execution_count": 38,
     "metadata": {},
     "output_type": "execute_result"
    }
   ],
   "source": [
    "# 훈련 세트와 테스트 세트 나누기\n",
    "train_input, test_input, train_target, test_target = train_test_split(input_data, target_data, random_state=42)\n",
    "train_input.shape, test_input.shape, train_target.shape, test_target.shape"
   ]
  },
  {
   "cell_type": "markdown",
   "metadata": {},
   "source": [
    "### 변환기 (Transformer)"
   ]
  },
  {
   "cell_type": "code",
   "execution_count": 39,
   "metadata": {},
   "outputs": [
    {
     "data": {
      "text/plain": [
       "(42, 56)"
      ]
     },
     "execution_count": 39,
     "metadata": {},
     "output_type": "execute_result"
    }
   ],
   "source": [
    "poly = PolynomialFeatures(degree=5)   # 기본값 (제곱항을 만듦)\n",
    "train_poly = poly.fit_transform(train_input)\n",
    "train_poly.shape"
   ]
  },
  {
   "cell_type": "code",
   "execution_count": 40,
   "metadata": {},
   "outputs": [
    {
     "data": {
      "text/plain": [
       "['1',\n",
       " 'x0',\n",
       " 'x1',\n",
       " 'x2',\n",
       " 'x0^2',\n",
       " 'x0 x1',\n",
       " 'x0 x2',\n",
       " 'x1^2',\n",
       " 'x1 x2',\n",
       " 'x2^2',\n",
       " 'x0^3',\n",
       " 'x0^2 x1',\n",
       " 'x0^2 x2',\n",
       " 'x0 x1^2',\n",
       " 'x0 x1 x2',\n",
       " 'x0 x2^2',\n",
       " 'x1^3',\n",
       " 'x1^2 x2',\n",
       " 'x1 x2^2',\n",
       " 'x2^3',\n",
       " 'x0^4',\n",
       " 'x0^3 x1',\n",
       " 'x0^3 x2',\n",
       " 'x0^2 x1^2',\n",
       " 'x0^2 x1 x2',\n",
       " 'x0^2 x2^2',\n",
       " 'x0 x1^3',\n",
       " 'x0 x1^2 x2',\n",
       " 'x0 x1 x2^2',\n",
       " 'x0 x2^3',\n",
       " 'x1^4',\n",
       " 'x1^3 x2',\n",
       " 'x1^2 x2^2',\n",
       " 'x1 x2^3',\n",
       " 'x2^4',\n",
       " 'x0^5',\n",
       " 'x0^4 x1',\n",
       " 'x0^4 x2',\n",
       " 'x0^3 x1^2',\n",
       " 'x0^3 x1 x2',\n",
       " 'x0^3 x2^2',\n",
       " 'x0^2 x1^3',\n",
       " 'x0^2 x1^2 x2',\n",
       " 'x0^2 x1 x2^2',\n",
       " 'x0^2 x2^3',\n",
       " 'x0 x1^4',\n",
       " 'x0 x1^3 x2',\n",
       " 'x0 x1^2 x2^2',\n",
       " 'x0 x1 x2^3',\n",
       " 'x0 x2^4',\n",
       " 'x1^5',\n",
       " 'x1^4 x2',\n",
       " 'x1^3 x2^2',\n",
       " 'x1^2 x2^3',\n",
       " 'x1 x2^4',\n",
       " 'x2^5']"
      ]
     },
     "execution_count": 40,
     "metadata": {},
     "output_type": "execute_result"
    }
   ],
   "source": [
    "poly.get_feature_names()"
   ]
  },
  {
   "cell_type": "code",
   "execution_count": 41,
   "metadata": {},
   "outputs": [
    {
     "data": {
      "text/plain": [
       "(14, 56)"
      ]
     },
     "execution_count": 41,
     "metadata": {},
     "output_type": "execute_result"
    }
   ],
   "source": [
    "test_poly = poly.fit_transform(test_input)\n",
    "test_poly.shape"
   ]
  },
  {
   "cell_type": "code",
   "execution_count": 42,
   "metadata": {},
   "outputs": [],
   "source": [
    "# 정규화\n",
    "ss = StandardScaler()\n",
    "ss.fit(train_poly)\n",
    "train_scaled = ss.transform(train_poly)\n",
    "test_scaled = ss.transform(test_poly)"
   ]
  },
  {
   "cell_type": "markdown",
   "metadata": {},
   "source": [
    "### 릿지 회귀 (Ridge)\n",
    "* 선형 회귀 모델에 규제를 추가한 모델\n",
    "* 릿지는 계수를 제곱한 값을 기준으로 규제를 적용 (L2 -> 선형 모델에 L2규제가 적용되면 릿지회귀라고 함)\n",
    "* 일반적으로 릿지를 조금 더 선호\n",
    "* alpha값은 우리가 지정해야 하는 하이퍼 파라미터임"
   ]
  },
  {
   "cell_type": "code",
   "execution_count": 51,
   "metadata": {},
   "outputs": [],
   "source": [
    "lr = Ridge(alpha=0.1)"
   ]
  },
  {
   "cell_type": "code",
   "execution_count": 52,
   "metadata": {},
   "outputs": [
    {
     "data": {
      "text/plain": [
       "Ridge(alpha=0.1)"
      ]
     },
     "execution_count": 52,
     "metadata": {},
     "output_type": "execute_result"
    }
   ],
   "source": [
    "lr.fit(train_scaled, train_target)"
   ]
  },
  {
   "cell_type": "code",
   "execution_count": 53,
   "metadata": {},
   "outputs": [
    {
     "data": {
      "text/plain": [
       "(array([ 0.00000000e+00,  2.76892628e+01, -1.83584948e+00, -1.95533898e+01,\n",
       "         3.01443623e+01,  1.71123377e+01,  1.77338905e+01,  4.58691290e+00,\n",
       "         3.78634741e+00,  2.29633132e+01,  1.95546393e+01,  1.79106518e+01,\n",
       "         1.42889189e+01,  1.35488405e+01,  7.40803906e+00,  1.90664802e+01,\n",
       "         5.31335570e+00, -2.20221783e+00,  1.04655501e+01,  4.18531586e+01,\n",
       "         5.91176135e+00,  1.50914960e+01, -7.36368453e-01,  2.00950871e+01,\n",
       "         1.09208858e+00, -1.30290300e+00,  1.99185516e+01, -1.31058193e+00,\n",
       "        -3.82067084e+00,  1.18902263e+01,  1.38180301e+01, -8.62947643e+00,\n",
       "        -1.02607468e+01,  8.32664340e+00,  4.58293381e+01, -6.18066720e+00,\n",
       "         1.36045427e+01, -1.78391661e+01,  2.85760395e+01, -6.63342097e+00,\n",
       "        -2.60989590e+01,  3.77201142e+01, -4.34689550e-01, -2.09765252e+01,\n",
       "        -2.38355405e+01,  4.02104486e+01,  1.28473247e-03, -2.06941773e+01,\n",
       "        -2.18012378e+01, -3.82797476e+00,  3.54389670e+01, -5.86274121e+00,\n",
       "        -2.57262656e+01, -2.41156940e+01, -1.70583491e+00,  4.01646977e+01]),\n",
       " 400.8333333333333)"
      ]
     },
     "execution_count": 53,
     "metadata": {},
     "output_type": "execute_result"
    }
   ],
   "source": [
    "lr.coef_, lr.intercept_"
   ]
  },
  {
   "cell_type": "code",
   "execution_count": 54,
   "metadata": {},
   "outputs": [
    {
     "data": {
      "text/html": [
       "<div>\n",
       "<style scoped>\n",
       "    .dataframe tbody tr th:only-of-type {\n",
       "        vertical-align: middle;\n",
       "    }\n",
       "\n",
       "    .dataframe tbody tr th {\n",
       "        vertical-align: top;\n",
       "    }\n",
       "\n",
       "    .dataframe thead th {\n",
       "        text-align: right;\n",
       "    }\n",
       "</style>\n",
       "<table border=\"1\" class=\"dataframe\">\n",
       "  <thead>\n",
       "    <tr style=\"text-align: right;\">\n",
       "      <th></th>\n",
       "      <th>Length</th>\n",
       "      <th>Height</th>\n",
       "      <th>Width</th>\n",
       "      <th>Actual Weight</th>\n",
       "      <th>Predicted Weight</th>\n",
       "    </tr>\n",
       "  </thead>\n",
       "  <tbody>\n",
       "    <tr>\n",
       "      <th>0</th>\n",
       "      <td>8.4</td>\n",
       "      <td>2.1120</td>\n",
       "      <td>1.4080</td>\n",
       "      <td>5.9</td>\n",
       "      <td>-14.919346</td>\n",
       "    </tr>\n",
       "    <tr>\n",
       "      <th>1</th>\n",
       "      <td>18.0</td>\n",
       "      <td>5.2224</td>\n",
       "      <td>3.3216</td>\n",
       "      <td>100.0</td>\n",
       "      <td>80.527464</td>\n",
       "    </tr>\n",
       "    <tr>\n",
       "      <th>2</th>\n",
       "      <td>27.5</td>\n",
       "      <td>7.2828</td>\n",
       "      <td>4.5662</td>\n",
       "      <td>250.0</td>\n",
       "      <td>256.557194</td>\n",
       "    </tr>\n",
       "    <tr>\n",
       "      <th>3</th>\n",
       "      <td>21.3</td>\n",
       "      <td>6.3840</td>\n",
       "      <td>3.5340</td>\n",
       "      <td>130.0</td>\n",
       "      <td>132.125478</td>\n",
       "    </tr>\n",
       "    <tr>\n",
       "      <th>4</th>\n",
       "      <td>22.5</td>\n",
       "      <td>5.8560</td>\n",
       "      <td>3.6240</td>\n",
       "      <td>130.0</td>\n",
       "      <td>138.854939</td>\n",
       "    </tr>\n",
       "    <tr>\n",
       "      <th>5</th>\n",
       "      <td>40.0</td>\n",
       "      <td>11.1350</td>\n",
       "      <td>6.6300</td>\n",
       "      <td>820.0</td>\n",
       "      <td>783.154570</td>\n",
       "    </tr>\n",
       "    <tr>\n",
       "      <th>6</th>\n",
       "      <td>30.0</td>\n",
       "      <td>7.6156</td>\n",
       "      <td>4.7716</td>\n",
       "      <td>320.0</td>\n",
       "      <td>309.079921</td>\n",
       "    </tr>\n",
       "    <tr>\n",
       "      <th>7</th>\n",
       "      <td>24.6</td>\n",
       "      <td>6.7334</td>\n",
       "      <td>4.1658</td>\n",
       "      <td>188.0</td>\n",
       "      <td>193.000676</td>\n",
       "    </tr>\n",
       "    <tr>\n",
       "      <th>8</th>\n",
       "      <td>39.0</td>\n",
       "      <td>11.1366</td>\n",
       "      <td>7.4934</td>\n",
       "      <td>900.0</td>\n",
       "      <td>830.413611</td>\n",
       "    </tr>\n",
       "    <tr>\n",
       "      <th>9</th>\n",
       "      <td>21.0</td>\n",
       "      <td>5.6925</td>\n",
       "      <td>3.6675</td>\n",
       "      <td>125.0</td>\n",
       "      <td>122.060535</td>\n",
       "    </tr>\n",
       "    <tr>\n",
       "      <th>10</th>\n",
       "      <td>43.5</td>\n",
       "      <td>12.6040</td>\n",
       "      <td>8.1420</td>\n",
       "      <td>1000.0</td>\n",
       "      <td>1129.363870</td>\n",
       "    </tr>\n",
       "    <tr>\n",
       "      <th>11</th>\n",
       "      <td>16.2</td>\n",
       "      <td>4.5924</td>\n",
       "      <td>2.6316</td>\n",
       "      <td>51.5</td>\n",
       "      <td>49.737109</td>\n",
       "    </tr>\n",
       "    <tr>\n",
       "      <th>12</th>\n",
       "      <td>28.0</td>\n",
       "      <td>7.8204</td>\n",
       "      <td>4.2042</td>\n",
       "      <td>250.0</td>\n",
       "      <td>267.004209</td>\n",
       "    </tr>\n",
       "    <tr>\n",
       "      <th>13</th>\n",
       "      <td>27.3</td>\n",
       "      <td>8.3230</td>\n",
       "      <td>5.1373</td>\n",
       "      <td>300.0</td>\n",
       "      <td>308.175647</td>\n",
       "    </tr>\n",
       "  </tbody>\n",
       "</table>\n",
       "</div>"
      ],
      "text/plain": [
       "    Length   Height   Width  Actual Weight  Predicted Weight\n",
       "0      8.4   2.1120  1.4080            5.9        -14.919346\n",
       "1     18.0   5.2224  3.3216          100.0         80.527464\n",
       "2     27.5   7.2828  4.5662          250.0        256.557194\n",
       "3     21.3   6.3840  3.5340          130.0        132.125478\n",
       "4     22.5   5.8560  3.6240          130.0        138.854939\n",
       "5     40.0  11.1350  6.6300          820.0        783.154570\n",
       "6     30.0   7.6156  4.7716          320.0        309.079921\n",
       "7     24.6   6.7334  4.1658          188.0        193.000676\n",
       "8     39.0  11.1366  7.4934          900.0        830.413611\n",
       "9     21.0   5.6925  3.6675          125.0        122.060535\n",
       "10    43.5  12.6040  8.1420         1000.0       1129.363870\n",
       "11    16.2   4.5924  2.6316           51.5         49.737109\n",
       "12    28.0   7.8204  4.2042          250.0        267.004209\n",
       "13    27.3   8.3230  5.1373          300.0        308.175647"
      ]
     },
     "execution_count": 54,
     "metadata": {},
     "output_type": "execute_result"
    }
   ],
   "source": [
    "### 6) 모델 평가\n",
    "pred = lr.predict(test_scaled)\n",
    "pd.DataFrame({'Length': test_input[:,0], \n",
    "              'Height': test_input[:,1], \n",
    "              'Width': test_input[:,2], \n",
    "              'Actual Weight': test_target, 'Predicted Weight': pred})"
   ]
  },
  {
   "cell_type": "code",
   "execution_count": 55,
   "metadata": {},
   "outputs": [
    {
     "data": {
      "text/plain": [
       "0.9904048455941404"
      ]
     },
     "execution_count": 55,
     "metadata": {},
     "output_type": "execute_result"
    }
   ],
   "source": [
    "lr.score(train_scaled, train_target)"
   ]
  },
  {
   "cell_type": "code",
   "execution_count": 56,
   "metadata": {},
   "outputs": [
    {
     "data": {
      "text/plain": [
       "0.9826465162736444"
      ]
     },
     "execution_count": 56,
     "metadata": {},
     "output_type": "execute_result"
    }
   ],
   "source": [
    "lr.score(test_scaled, test_target)"
   ]
  },
  {
   "cell_type": "markdown",
   "metadata": {},
   "source": [
    "### 적절한 alpha값 찾기\n",
    "* alpha값을 바꾸면서 score()의 결과 그래프 그려보기"
   ]
  },
  {
   "cell_type": "code",
   "execution_count": 57,
   "metadata": {},
   "outputs": [
    {
     "data": {
      "text/plain": [
       "[0.9930679875694713,\n",
       " 0.9918120087949331,\n",
       " 0.9904048455941404,\n",
       " 0.9896217956447124,\n",
       " 0.9887366307205133,\n",
       " 0.9841994538470815]"
      ]
     },
     "execution_count": 57,
     "metadata": {},
     "output_type": "execute_result"
    }
   ],
   "source": [
    "alpha_list = [0.001, 0.01, 0.1, 1, 10, 100]\n",
    "\n",
    "train_score = []\n",
    "test_score = []\n",
    "\n",
    "for alpha in alpha_list:\n",
    "    ridge = Ridge(alpha=alpha)\n",
    "    ridge.fit(train_scaled, train_target)\n",
    "    train_score.append(ridge.score(train_scaled, train_target))\n",
    "    test_score.append(ridge.score(test_scaled, test_target))\n",
    "\n",
    "train_score"
   ]
  },
  {
   "cell_type": "code",
   "execution_count": 58,
   "metadata": {},
   "outputs": [
    {
     "name": "stderr",
     "output_type": "stream",
     "text": [
      "C:\\Users\\myha\\anaconda3\\lib\\site-packages\\matplotlib\\backends\\backend_agg.py:240: RuntimeWarning: Glyph 8722 missing from current font.\n",
      "  font.set_text(s, 0.0, flags=flags)\n",
      "C:\\Users\\myha\\anaconda3\\lib\\site-packages\\matplotlib\\backends\\backend_agg.py:203: RuntimeWarning: Glyph 8722 missing from current font.\n",
      "  font.set_text(s, 0, flags=flags)\n"
     ]
    },
    {
     "data": {
      "image/png": "[encoded data removed]",
      "text/plain": [
       "<Figure size 432x288 with 1 Axes>"
      ]
     },
     "metadata": {
      "needs_background": "light"
     },
     "output_type": "display_data"
    }
   ],
   "source": [
    "plt.plot(np.log10(alpha_list), train_score)\n",
    "plt.plot(np.log10(alpha_list), test_score)\n",
    "plt.xlabel('alpha')\n",
    "plt.ylabel('R^2')\n",
    "plt.show()"
   ]
  },
  {
   "cell_type": "code",
   "execution_count": 77,
   "metadata": {},
   "outputs": [
    {
     "data": {
      "text/plain": [
       "array([0.        , 8.0546876 , 7.88319673, 7.40751325, 7.47046281,\n",
       "       7.4383015 , 7.13926509, 7.35348799, 7.06010647, 6.73851945,\n",
       "       6.83989115, 6.87160962, 6.61853818, 6.86790948, 6.61439077,\n",
       "       6.3572279 , 6.82965508, 6.57437494, 6.31581223, 6.05795199,\n",
       "       6.21718372, 6.29528715, 6.04987936, 6.34583703, 6.10012478,\n",
       "       5.86152613, 6.36691874, 6.12043063, 5.88047386, 5.65040708,\n",
       "       6.35712865, 6.10931664, 5.86741838, 5.6346908 , 5.41300396,\n",
       "       5.62609104, 5.74046312, 5.48683187, 5.83232456, 5.57891504,\n",
       "       5.3387837 , 5.89886408, 5.64582356, 5.40532178, 5.18083767,\n",
       "       5.93770047, 5.68496759, 5.44396643, 5.2181047 , 5.00934418,\n",
       "       5.94703485, 5.69436801, 5.45261898, 5.22507991, 5.01364171,\n",
       "       4.8188815 ])"
      ]
     },
     "execution_count": 77,
     "metadata": {},
     "output_type": "execute_result"
    }
   ],
   "source": [
    "ridge.coef_"
   ]
  },
  {
   "cell_type": "markdown",
   "metadata": {},
   "source": [
    "### 라쏘 회귀\n",
    "* 라쏘는 계수의 절대값을 기준으로 규제를 적용\n",
    "* 라쏘는 계수의 값을 아예 0으로 만들 수 있음\n",
    "* 유용한 특성을 골라내는 용도로 사용 가능"
   ]
  },
  {
   "cell_type": "code",
   "execution_count": 70,
   "metadata": {},
   "outputs": [
    {
     "data": {
      "text/plain": [
       "Lasso(alpha=10)"
      ]
     },
     "execution_count": 70,
     "metadata": {},
     "output_type": "execute_result"
    }
   ],
   "source": [
    "lasso = Lasso(alpha=10)\n",
    "lasso.fit(train_scaled, train_target)"
   ]
  },
  {
   "cell_type": "code",
   "execution_count": 71,
   "metadata": {},
   "outputs": [
    {
     "data": {
      "text/plain": [
       "0.988820885788649"
      ]
     },
     "execution_count": 71,
     "metadata": {},
     "output_type": "execute_result"
    }
   ],
   "source": [
    "lasso.score(train_scaled, train_target)"
   ]
  },
  {
   "cell_type": "code",
   "execution_count": 72,
   "metadata": {},
   "outputs": [
    {
     "data": {
      "text/plain": [
       "0.9823020708550176"
      ]
     },
     "execution_count": 72,
     "metadata": {},
     "output_type": "execute_result"
    }
   ],
   "source": [
    "lasso.score(test_scaled, test_target)"
   ]
  },
  {
   "cell_type": "code",
   "execution_count": 73,
   "metadata": {},
   "outputs": [
    {
     "name": "stderr",
     "output_type": "stream",
     "text": [
      "C:\\Users\\myha\\anaconda3\\lib\\site-packages\\sklearn\\linear_model\\_coordinate_descent.py:529: ConvergenceWarning: Objective did not converge. You might want to increase the number of iterations. Duality gap: 18721.489838499336, tolerance: 518.2793833333334\n",
      "  model = cd_fast.enet_coordinate_descent(\n",
      "C:\\Users\\myha\\anaconda3\\lib\\site-packages\\sklearn\\linear_model\\_coordinate_descent.py:529: ConvergenceWarning: Objective did not converge. You might want to increase the number of iterations. Duality gap: 13004.417193452398, tolerance: 518.2793833333334\n",
      "  model = cd_fast.enet_coordinate_descent(\n"
     ]
    },
    {
     "data": {
      "text/plain": [
       "[0.9925196861132805,\n",
       " 0.9923253689781224,\n",
       " 0.990234541466571,\n",
       " 0.9898226808884522,\n",
       " 0.988771836162061,\n",
       " 0.9078694930826314]"
      ]
     },
     "execution_count": 73,
     "metadata": {},
     "output_type": "execute_result"
    }
   ],
   "source": [
    "alpha_list = [0.001, 0.01, 0.1, 1, 10, 100]\n",
    "\n",
    "train_score = []\n",
    "test_score = []\n",
    "\n",
    "for alpha in alpha_list:\n",
    "    lasso = Lasso(alpha=alpha, max_iter=10000)  # Warning\n",
    "    lasso.fit(train_scaled, train_target)\n",
    "    train_score.append(lasso.score(train_scaled, train_target))\n",
    "    test_score.append(lasso.score(test_scaled, test_target))\n",
    "\n",
    "train_score"
   ]
  },
  {
   "cell_type": "code",
   "execution_count": 74,
   "metadata": {},
   "outputs": [
    {
     "name": "stderr",
     "output_type": "stream",
     "text": [
      "C:\\Users\\myha\\anaconda3\\lib\\site-packages\\matplotlib\\backends\\backend_agg.py:240: RuntimeWarning: Glyph 8722 missing from current font.\n",
      "  font.set_text(s, 0.0, flags=flags)\n",
      "C:\\Users\\myha\\anaconda3\\lib\\site-packages\\matplotlib\\backends\\backend_agg.py:203: RuntimeWarning: Glyph 8722 missing from current font.\n",
      "  font.set_text(s, 0, flags=flags)\n"
     ]
    },
    {
     "data": {
      "image/png": "[encoded data removed]",
      "text/plain": [
       "<Figure size 432x288 with 1 Axes>"
      ]
     },
     "metadata": {
      "needs_background": "light"
     },
     "output_type": "display_data"
    }
   ],
   "source": [
    "plt.plot(np.log10(alpha_list), train_score)\n",
    "plt.plot(np.log10(alpha_list), test_score)\n",
    "plt.xlabel('alpha')\n",
    "plt.ylabel('R^2')\n",
    "plt.show()"
   ]
  },
  {
   "cell_type": "code",
   "execution_count": 76,
   "metadata": {},
   "outputs": [
    {
     "data": {
      "text/plain": [
       "array([  0.        ,   0.        ,   0.        ,   0.        ,\n",
       "         0.        ,   1.38638378,   0.        ,   0.        ,\n",
       "         0.        ,   0.        ,   0.        ,   0.        ,\n",
       "         0.        ,  80.2490307 , 167.83298375,   0.        ,\n",
       "         0.        ,   0.        ,   0.        ,   0.        ,\n",
       "         0.        ,   0.        ,   0.        ,   0.        ,\n",
       "         0.        ,   0.        ,   0.        ,   0.        ,\n",
       "         0.        ,   0.        ,   0.        ,   0.        ,\n",
       "         0.        ,   0.        ,   0.        ,   0.        ,\n",
       "         0.        ,   0.        ,   0.        ,   0.        ,\n",
       "         0.        ,   0.        ,   0.        ,   0.        ,\n",
       "         0.        ,   0.        ,   0.        ,   0.        ,\n",
       "         0.        ,   0.        ,   0.        ,   0.        ,\n",
       "         0.        ,   0.        ,   0.        ,   0.        ])"
      ]
     },
     "execution_count": 76,
     "metadata": {},
     "output_type": "execute_result"
    }
   ],
   "source": [
    "lasso.coef_"
   ]
  },
  {
   "cell_type": "code",
   "execution_count": 78,
   "metadata": {},
   "outputs": [
    {
     "data": {
      "text/plain": [
       "53"
      ]
     },
     "execution_count": 78,
     "metadata": {},
     "output_type": "execute_result"
    }
   ],
   "source": [
    "np.sum(lasso.coef_ == 0)"
   ]
  },
  {
   "cell_type": "code",
   "execution_count": null,
   "metadata": {},
   "outputs": [],
   "source": []
  }
 ],
 "metadata": {
  "kernelspec": {
   "display_name": "Python 3",
   "language": "python",
   "name": "python3"
  },
  "language_info": {
   "codemirror_mode": {
    "name": "ipython",
    "version": 3
   },
   "file_extension": ".py",
   "mimetype": "text/x-python",
   "name": "python",
   "nbconvert_exporter": "python",
   "pygments_lexer": "ipython3",
   "version": "3.8.5"
  }
 },
 "nbformat": 4,
 "nbformat_minor": 4
}
