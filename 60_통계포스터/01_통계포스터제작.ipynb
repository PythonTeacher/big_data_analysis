{
 "cells": [
  {
   "cell_type": "markdown",
   "metadata": {},
   "source": [
    "# 통계포스터 제작\n",
    "* 개요 : 평소 궁금했거나 연구하고 싶었던 주제를 선정하여 데이터를 분석한 후 시각화한 결과를 포스터로 제작하는 활동\n",
    "* 평가기준\n",
    "    * 주제 선정 : 주제(5점), 제작동기(배경)(5점)\n",
    "    * 데이터 수집 : 데이터출처(5점), 수집방법(5점)\n",
    "    * 데이터 분석 : 상(30점), 중(27점), 하(24점)\n",
    "    * 시각화 : 상(30점), 중(27점), 하(24점)\n",
    "    * 디자인 : 상(10점), 중(8점), 하(6점)\n",
    "    * 결론 : 결론(5점), 제언(주제에 대한 생각이나 의견)(5점)\n",
    "* 준비기간 : 9.23 ~ 10.19 (3주)\n",
    "* 예선대회 : 10.21(목)"
   ]
  },
  {
   "cell_type": "markdown",
   "metadata": {},
   "source": [
    "## 1. 팀 빌딩\n",
    "* 2인 1조로 팀 구성\n",
    "* 팀명 작성\n",
    "* 팀원의 할 일을 정하고 일정을 수립\n",
    "* https://bit.ly/dimigo-bigdata 작성"
   ]
  },
  {
   "cell_type": "markdown",
   "metadata": {},
   "source": [
    "## 2. 주제 선정\n",
    "* 평소 궁금했거나 연구하고 싶었던 주제로 결정\n",
    "* 주제선정 시 고려사항\n",
    "    * 확실하게 정의할 수 있어 관련 자료를 쉽게 모을 수 있는 주제\n",
    "    * 사람들이 흥미를 가질만한 재미있고 창의적인 주제\n",
    "    * 쉽게 내용을 이해할 수 있고 명백한 결론을 포함할 수 있는 주제\n",
    "* https://bit.ly/dimigo-bigdata 작성"
   ]
  },
  {
   "cell_type": "markdown",
   "metadata": {},
   "source": [
    "## 3. 데이터 수집\n",
    "* 기존 자료 이용하기 : 캐글, 데이터포털 등 (출처 작성)\n",
    "* 직접 설문하기 : 설문지와 설문조건(참여인원, 일시) 작성\n",
    "* 여러개의 데이터 활용 가능"
   ]
  },
  {
   "cell_type": "markdown",
   "metadata": {},
   "source": [
    "## 4. 데이터 분석\n",
    "* 판다스, 구글 트렌드, 네이버 데이터랩 등 활용\n",
    "* 배운 내용 최대한 활용하기"
   ]
  },
  {
   "cell_type": "markdown",
   "metadata": {},
   "source": [
    "## 5. 시각화\n",
    "* Matplotlib, Seaborn 등 활용\n",
    "* 배운 내용 최대한 활용하기"
   ]
  },
  {
   "cell_type": "markdown",
   "metadata": {},
   "source": [
    "## 6. 디자인\n",
    "* 미리캔버스, 망고보드 이용 (인포그래픽 제작)\n",
    "* 디자인을 통해 시각적으로 내용이 명확히 전달될 수 있도록 하기"
   ]
  },
  {
   "cell_type": "markdown",
   "metadata": {},
   "source": [
    "## 7. 결론\n",
    "* 분석한 결과와 결과에 따른 결론 작성\n",
    "* 주제에 대한 생각이나 의견 작성"
   ]
  },
  {
   "cell_type": "code",
   "execution_count": null,
   "metadata": {},
   "outputs": [],
   "source": []
  }
 ],
 "metadata": {
  "kernelspec": {
   "display_name": "Python 3",
   "language": "python",
   "name": "python3"
  },
  "language_info": {
   "codemirror_mode": {
    "name": "ipython",
    "version": 3
   },
   "file_extension": ".py",
   "mimetype": "text/x-python",
   "name": "python",
   "nbconvert_exporter": "python",
   "pygments_lexer": "ipython3",
   "version": "3.8.5"
  }
 },
 "nbformat": 4,
 "nbformat_minor": 4
}
